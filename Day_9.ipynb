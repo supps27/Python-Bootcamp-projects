{
  "nbformat": 4,
  "nbformat_minor": 0,
  "metadata": {
    "colab": {
      "provenance": [],
      "authorship_tag": "ABX9TyNBVbn1iqOHbMDqGCD7Efbn",
      "include_colab_link": true
    },
    "kernelspec": {
      "name": "python3",
      "display_name": "Python 3"
    },
    "language_info": {
      "name": "python"
    }
  },
  "cells": [
    {
      "cell_type": "markdown",
      "metadata": {
        "id": "view-in-github",
        "colab_type": "text"
      },
      "source": [
        "<a href=\"https://colab.research.google.com/github/supps27/Python-Bootcamp-projects/blob/main/Day_9.ipynb\" target=\"_parent\"><img src=\"https://colab.research.google.com/assets/colab-badge.svg\" alt=\"Open In Colab\"/></a>"
      ]
    },
    {
      "cell_type": "markdown",
      "source": [
        "#Dictonary and nesting"
      ],
      "metadata": {
        "id": "p4-vhtOvsC6a"
      }
    },
    {
      "cell_type": "code",
      "execution_count": 5,
      "metadata": {
        "colab": {
          "base_uri": "https://localhost:8080/"
        },
        "id": "5n3ut7v6r9jO",
        "outputId": "42f7dd7a-0cc0-4b9d-ccfd-6725528c597e"
      },
      "outputs": [
        {
          "output_type": "stream",
          "name": "stdout",
          "text": [
            "Item 1\n",
            "{1: 'Item 1', 2: 'Item 2', 3: 'This is changed value'}\n",
            "1\n",
            "2\n",
            "3\n",
            "value=Item 1\n",
            "value=Item 2\n",
            "value=This is changed value\n"
          ]
        }
      ],
      "source": [
        "programing_dictnary={\n",
        "    1:'Item 1',\n",
        "    2:'Item 2',\n",
        "    3:'Item 3'\n",
        "    }                 #dict has key:value\n",
        "\n",
        "print(programing_dictnary[1])\n",
        "programing_dictnary[3]='This is changed value'  #here for key 3 new value is assigned\n",
        "print(programing_dictnary)\n",
        "\n",
        "\n",
        "empty_dictnary={} #this creates a empty dictnary\n",
        "# programing_dictnary={} #this will update intial created dict\n",
        "# print(programing_dictnary)\n",
        "\n",
        "for keys in programing_dictnary:\n",
        "    print(keys)\n",
        "\n",
        "for keys in programing_dictnary:\n",
        "    print(f'value={programing_dictnary[keys]}')"
      ]
    },
    {
      "cell_type": "markdown",
      "source": [
        "Problem:You have access to a database of student_scores in the format of a dictionary. The keys in student_scores are the names of the students and the values are their exam scores.\n",
        "\n",
        "Write a program that converts their scores to grades.\n",
        "\n",
        "By the end of your program, you should have a new dictionary called student_grades that should contain student names as keys and their assessed grades for values.\n",
        "\n",
        "The final version of the student_grades dictionary will be checked.\n",
        "\n",
        "**DO NOT** modify lines 1-7 to change the existing student_scores dictionary.\n",
        "\n",
        "This is the scoring criteria:\n",
        "- Scores 91 - 100: Grade = \"Outstanding\"\n",
        "- Scores 81 - 90: Grade = \"Exceeds Expectations\"\n",
        "- Scores 71 - 80: Grade = \"Acceptable\"\n",
        "- Scores 70 or lower: Grade = \"Fail\"\n"
      ],
      "metadata": {
        "id": "-m2vgCz9zXqD"
      }
    },
    {
      "cell_type": "markdown",
      "source": [
        "#this is how i approched to this problem\n"
      ],
      "metadata": {
        "id": "y98l8MHTzSSy"
      }
    },
    {
      "cell_type": "code",
      "source": [
        "student_scores = {\n",
        "    'Harry': 88,\n",
        "    'Ron': 78,\n",
        "    'Hermione': 95,\n",
        "    'Draco': 75,\n",
        "    'Neville': 60\n",
        "}\n",
        "\n",
        "student_grades ={}\n",
        "\n",
        "for names in student_scores:\n",
        "    if 91<=student_scores[names]<=100:\n",
        "        value='Outstanding'\n",
        "        student_grades[names]=value\n",
        "    elif 81<=student_scores[names]<=90:\n",
        "        value=\"Exceeds Expectations\"\n",
        "        student_grades[names]=value\n",
        "    elif 71<=student_scores[names]<=80:\n",
        "        value=\"Acceptable\"\n",
        "        student_grades[names]=value\n",
        "    else:\n",
        "        value=\"Fail\"\n",
        "        student_grades[names]=value\n",
        "print(student_grades)\n",
        ""
      ],
      "metadata": {
        "colab": {
          "base_uri": "https://localhost:8080/"
        },
        "id": "gvNJyUgPyFht",
        "outputId": "1b51f897-25d3-4584-d1fc-3d213d595540"
      },
      "execution_count": 7,
      "outputs": [
        {
          "output_type": "stream",
          "name": "stdout",
          "text": [
            "{'Harry': 'Exceeds Expectations', 'Ron': 'Acceptable', 'Hermione': 'Outstanding', 'Draco': 'Acceptable', 'Neville': 'Fail'}\n"
          ]
        }
      ]
    },
    {
      "cell_type": "markdown",
      "source": [
        "#this is the solution in module"
      ],
      "metadata": {
        "id": "11v3stHpzJvS"
      }
    },
    {
      "cell_type": "code",
      "source": [
        "student_scores = {\n",
        "    'Harry': 88,\n",
        "    'Ron': 78,\n",
        "    'Hermione': 95,\n",
        "    'Draco': 75,\n",
        "    'Neville': 60\n",
        "}\n",
        "\n",
        "# Create an empty dictionary to collect the new values.\n",
        "student_grades = {}\n",
        "\n",
        "# Loop through each key in the student_scores dictionary\n",
        "for student in student_scores:\n",
        "\n",
        "    #Get the value (student score) by using the key each time.\n",
        "    score = student_scores[student]\n",
        "\n",
        "    #Check what grade the score would get, then add it to student_grades\n",
        "    if score >= 91:\n",
        "        student_grades[student] = 'Outstanding'\n",
        "    elif score >= 81:\n",
        "        student_grades[student] = 'Exceeds Expectations'\n",
        "    elif score >= 71:\n",
        "        student_grades[student] = 'Acceptable'\n",
        "    else:\n",
        "        student_grades[student] = 'Fail'\n",
        "print(student_grades)"
      ],
      "metadata": {
        "colab": {
          "base_uri": "https://localhost:8080/"
        },
        "id": "JxTyKFIAzGBX",
        "outputId": "5ba590b0-fff8-4c7a-bca5-0a0b9dd8a1ca"
      },
      "execution_count": 8,
      "outputs": [
        {
          "output_type": "stream",
          "name": "stdout",
          "text": [
            "{'Harry': 'Exceeds Expectations', 'Ron': 'Acceptable', 'Hermione': 'Outstanding', 'Draco': 'Acceptable', 'Neville': 'Fail'}\n"
          ]
        }
      ]
    }
  ]
}