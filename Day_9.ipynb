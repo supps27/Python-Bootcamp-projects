{
  "nbformat": 4,
  "nbformat_minor": 0,
  "metadata": {
    "colab": {
      "provenance": [],
      "authorship_tag": "ABX9TyMKVV24KvDCK5vfvokEW9to",
      "include_colab_link": true
    },
    "kernelspec": {
      "name": "python3",
      "display_name": "Python 3"
    },
    "language_info": {
      "name": "python"
    }
  },
  "cells": [
    {
      "cell_type": "markdown",
      "metadata": {
        "id": "view-in-github",
        "colab_type": "text"
      },
      "source": [
        "<a href=\"https://colab.research.google.com/github/supps27/Python-Bootcamp-projects/blob/main/Day_9.ipynb\" target=\"_parent\"><img src=\"https://colab.research.google.com/assets/colab-badge.svg\" alt=\"Open In Colab\"/></a>"
      ]
    },
    {
      "cell_type": "markdown",
      "source": [
        "#Dictonary and nesting"
      ],
      "metadata": {
        "id": "p4-vhtOvsC6a"
      }
    },
    {
      "cell_type": "code",
      "execution_count": 5,
      "metadata": {
        "colab": {
          "base_uri": "https://localhost:8080/"
        },
        "id": "5n3ut7v6r9jO",
        "outputId": "42f7dd7a-0cc0-4b9d-ccfd-6725528c597e"
      },
      "outputs": [
        {
          "output_type": "stream",
          "name": "stdout",
          "text": [
            "Item 1\n",
            "{1: 'Item 1', 2: 'Item 2', 3: 'This is changed value'}\n",
            "1\n",
            "2\n",
            "3\n",
            "value=Item 1\n",
            "value=Item 2\n",
            "value=This is changed value\n"
          ]
        }
      ],
      "source": [
        "programing_dictnary={\n",
        "    1:'Item 1',\n",
        "    2:'Item 2',\n",
        "    3:'Item 3'\n",
        "    }                 #dict has key:value\n",
        "\n",
        "print(programing_dictnary[1])\n",
        "programing_dictnary[3]='This is changed value'  #here for key 3 new value is assigned\n",
        "print(programing_dictnary)\n",
        "\n",
        "\n",
        "empty_dictnary={} #this creates a empty dictnary\n",
        "# programing_dictnary={} #this will update intial created dict\n",
        "# print(programing_dictnary)\n",
        "\n",
        "for keys in programing_dictnary:\n",
        "    print(keys)\n",
        "\n",
        "for keys in programing_dictnary:\n",
        "    print(f'value={programing_dictnary[keys]}')"
      ]
    },
    {
      "cell_type": "markdown",
      "source": [
        "Problem:You have access to a database of student_scores in the format of a dictionary. The keys in student_scores are the names of the students and the values are their exam scores.\n",
        "\n",
        "Write a program that converts their scores to grades.\n",
        "\n",
        "By the end of your program, you should have a new dictionary called student_grades that should contain student names as keys and their assessed grades for values.\n",
        "\n",
        "The final version of the student_grades dictionary will be checked.\n",
        "\n",
        "**DO NOT** modify lines 1-7 to change the existing student_scores dictionary.\n",
        "\n",
        "This is the scoring criteria:\n",
        "- Scores 91 - 100: Grade = \"Outstanding\"\n",
        "- Scores 81 - 90: Grade = \"Exceeds Expectations\"\n",
        "- Scores 71 - 80: Grade = \"Acceptable\"\n",
        "- Scores 70 or lower: Grade = \"Fail\"\n"
      ],
      "metadata": {
        "id": "-m2vgCz9zXqD"
      }
    },
    {
      "cell_type": "markdown",
      "source": [
        "#this is how i approched to this problem\n"
      ],
      "metadata": {
        "id": "y98l8MHTzSSy"
      }
    },
    {
      "cell_type": "code",
      "source": [
        "student_scores = {\n",
        "    'Harry': 88,\n",
        "    'Ron': 78,\n",
        "    'Hermione': 95,\n",
        "    'Draco': 75,\n",
        "    'Neville': 60\n",
        "}\n",
        "\n",
        "student_grades ={}\n",
        "\n",
        "for names in student_scores:\n",
        "    if 91<=student_scores[names]<=100:\n",
        "        value='Outstanding'\n",
        "        student_grades[names]=value\n",
        "    elif 81<=student_scores[names]<=90:\n",
        "        value=\"Exceeds Expectations\"\n",
        "        student_grades[names]=value\n",
        "    elif 71<=student_scores[names]<=80:\n",
        "        value=\"Acceptable\"\n",
        "        student_grades[names]=value\n",
        "    else:\n",
        "        value=\"Fail\"\n",
        "        student_grades[names]=value\n",
        "print(student_grades)\n",
        ""
      ],
      "metadata": {
        "colab": {
          "base_uri": "https://localhost:8080/"
        },
        "id": "gvNJyUgPyFht",
        "outputId": "1b51f897-25d3-4584-d1fc-3d213d595540"
      },
      "execution_count": 7,
      "outputs": [
        {
          "output_type": "stream",
          "name": "stdout",
          "text": [
            "{'Harry': 'Exceeds Expectations', 'Ron': 'Acceptable', 'Hermione': 'Outstanding', 'Draco': 'Acceptable', 'Neville': 'Fail'}\n"
          ]
        }
      ]
    },
    {
      "cell_type": "markdown",
      "source": [
        "#this is the solution in module"
      ],
      "metadata": {
        "id": "11v3stHpzJvS"
      }
    },
    {
      "cell_type": "code",
      "source": [
        "student_scores = {\n",
        "    'Harry': 88,\n",
        "    'Ron': 78,\n",
        "    'Hermione': 95,\n",
        "    'Draco': 75,\n",
        "    'Neville': 60\n",
        "}\n",
        "\n",
        "# Create an empty dictionary to collect the new values.\n",
        "student_grades = {}\n",
        "\n",
        "# Loop through each key in the student_scores dictionary\n",
        "for student in student_scores:\n",
        "\n",
        "    #Get the value (student score) by using the key each time.\n",
        "    score = student_scores[student]\n",
        "\n",
        "    #Check what grade the score would get, then add it to student_grades\n",
        "    if score >= 91:\n",
        "        student_grades[student] = 'Outstanding'\n",
        "    elif score >= 81:\n",
        "        student_grades[student] = 'Exceeds Expectations'\n",
        "    elif score >= 71:\n",
        "        student_grades[student] = 'Acceptable'\n",
        "    else:\n",
        "        student_grades[student] = 'Fail'\n",
        "print(student_grades)"
      ],
      "metadata": {
        "colab": {
          "base_uri": "https://localhost:8080/"
        },
        "id": "JxTyKFIAzGBX",
        "outputId": "5ba590b0-fff8-4c7a-bca5-0a0b9dd8a1ca"
      },
      "execution_count": 8,
      "outputs": [
        {
          "output_type": "stream",
          "name": "stdout",
          "text": [
            "{'Harry': 'Exceeds Expectations', 'Ron': 'Acceptable', 'Hermione': 'Outstanding', 'Draco': 'Acceptable', 'Neville': 'Fail'}\n"
          ]
        }
      ]
    },
    {
      "cell_type": "markdown",
      "source": [
        "#Nested list and dictionaries"
      ],
      "metadata": {
        "id": "m_ipwNPvkg0C"
      }
    },
    {
      "cell_type": "code",
      "source": [
        "travel_log={\n",
        "    'France': ['Paris','Lille','Dijon'],\n",
        "    'India': ['Delhi','Mumbai','Kolkata']\n",
        "}\n",
        "\n",
        "#accessing key and values\n",
        "print(travel_log['France'][1])\n",
        "\n",
        "#accessing using loops\n",
        "for keys in travel_log:\n",
        "  for places in travel_log[keys]:\n",
        "   print(places)"
      ],
      "metadata": {
        "colab": {
          "base_uri": "https://localhost:8080/"
        },
        "id": "nkjhjWRRkcUk",
        "outputId": "4136e127-e26d-4412-947b-f979e2a9493c"
      },
      "execution_count": 6,
      "outputs": [
        {
          "output_type": "stream",
          "name": "stdout",
          "text": [
            "Lille\n",
            "['Paris', 'Lille', 'Dijon'] Paris\n",
            "['Paris', 'Lille', 'Dijon'] Lille\n",
            "['Paris', 'Lille', 'Dijon'] Dijon\n",
            "['Delhi', 'Mumbai', 'Kolkata'] Delhi\n",
            "['Delhi', 'Mumbai', 'Kolkata'] Mumbai\n",
            "['Delhi', 'Mumbai', 'Kolkata'] Kolkata\n"
          ]
        }
      ]
    },
    {
      "cell_type": "markdown",
      "source": [
        "#Auction program"
      ],
      "metadata": {
        "id": "CiyMwI6rsV-c"
      }
    },
    {
      "cell_type": "markdown",
      "source": [
        "we have to make auction programme that will take user name and bid amount\n",
        "and keep it in dictinory and return winner who bids higest\n",
        "\n",
        "how I am going to approch to this problem\n",
        "\n",
        "step1 : making empty dict which saves user name and their bid amount\n",
        "create variable which will take user input and their bid amount\n",
        "\n",
        "step 2 : will keep a while loop as true which will end when no bidders are left\n",
        "\n",
        "step 3 : after every username as key and their bidding MOUT as value is added in dictionary we will initialize a max variable with 0\n",
        "\n",
        "step 4 : using for loop name,bids in username_bids.item() to unpack items and collect max bid with if block\n",
        "\n",
        "step 5 : after finding max bid amount again we will unpack the dict in same manner to find that key assicoated with value\n",
        "\n"
      ],
      "metadata": {
        "id": "8R0_2ndpsbsp"
      }
    },
    {
      "cell_type": "code",
      "source": [
        "username_bids={}\n",
        "Remaning_bidders=True\n",
        "while Remaning_bidders==True:\n",
        "    username=input('Input your name\\n')\n",
        "    bid_amount=int(input('Input you bid amount\\n'))\n",
        "    username_bids[username]=bid_amount\n",
        "    left_bidders=input('Is there any remaning bidders? Yes or No\\n').lower()\n",
        "    if left_bidders=='no':\n",
        "        Remaning_bidders=False\n",
        "max_bid_value=0\n",
        "for names,bids in username_bids.items():\n",
        "    if bids>max_bid_value:\n",
        "        max_bid_value=bids\n",
        "for names,bids in username_bids.items():\n",
        "    if bids==max_bid_value:\n",
        "        print(f'{names} you have won the biddig with bidding amount {max_bid_value}' )"
      ],
      "metadata": {
        "colab": {
          "base_uri": "https://localhost:8080/"
        },
        "id": "N86BgSawsVon",
        "outputId": "03be6d87-42df-45fc-cc9a-d96a71738d4a"
      },
      "execution_count": 10,
      "outputs": [
        {
          "output_type": "stream",
          "name": "stdout",
          "text": [
            "Input your name\n",
            "s\n",
            "Input you bid amount\n",
            "100\n",
            "Is there any remaning bidders? Yes or No\n",
            "yes\n",
            "Input your name\n",
            "d\n",
            "Input you bid amount\n",
            "500\n",
            "Is there any remaning bidders? Yes or No\n",
            "yes\n",
            "Input your name\n",
            "p\n",
            "Input you bid amount\n",
            "50\n",
            "Is there any remaning bidders? Yes or No\n",
            "no\n",
            "d you have won the biddig with bidding amount 500\n"
          ]
        }
      ]
    },
    {
      "cell_type": "markdown",
      "source": [
        "More simplified code generated via chat gpt\n",
        "\n",
        "Suggested Improvements (Best Practices & Clean Code):\n",
        "\n",
        "Avoid using max as a variable name — it's a built-in Python function.\n",
        "\n",
        "You can find the max bid in one line using max() function.\n",
        "\n",
        "You can simplify the winner-finding process."
      ],
      "metadata": {
        "id": "UUDn8YbIYAqR"
      }
    },
    {
      "cell_type": "code",
      "source": [
        "username_bids = {}\n",
        "remaining_bidders = True\n",
        "\n",
        "while remaining_bidders:\n",
        "    username = input('Input your name:\\n')\n",
        "    bid_amount = int(input('Input your bid amount:\\n'))\n",
        "    username_bids[username] = bid_amount\n",
        "\n",
        "    left_bidders = input('Is there any remaining bidder? Yes or No\\n').lower()\n",
        "    if left_bidders == 'no':\n",
        "        remaining_bidders = False\n",
        "\n",
        "# Find the highest bid\n",
        "highest_bid = max(username_bids.values())\n",
        "\n",
        "# Print winner(s)\n",
        "for name, bid in username_bids.items():\n",
        "    if bid == highest_bid:\n",
        "        print(f'{name}, you have won the bidding with a bid of ₹{highest_bid}')\n"
      ],
      "metadata": {
        "id": "Ak_yoSviYAWE"
      },
      "execution_count": null,
      "outputs": []
    },
    {
      "cell_type": "markdown",
      "source": [
        "#Final refined code adding all the funcutions\n",
        "\n",
        "New Features:\n",
        "\n",
        "Bid validation:\n",
        "\n",
        "Ensures only positive numbers are accepted.\n",
        "\n",
        "Re-prompts if input is invalid.\n",
        "\n",
        "Hidden highest bid:\n",
        "\n",
        "Clears the screen (for CLI-based anonymity).\n",
        "\n",
        "Each bidder does not see previous bids.\n"
      ],
      "metadata": {
        "id": "cSikfSoUYxVC"
      }
    },
    {
      "cell_type": "code",
      "source": [
        "import os\n",
        "\n",
        "# Function to clear screen (cross-platform)\n",
        "def clear_screen():\n",
        "    # For Windows\n",
        "    if os.name == 'nt':\n",
        "        os.system('cls')\n",
        "    # For macOS/Linux\n",
        "    else:\n",
        "        os.system('clear')\n",
        "\n",
        "username_bids = {}\n",
        "remaining_bidders = True\n",
        "\n",
        "while remaining_bidders:\n",
        "    clear_screen()\n",
        "    print(\"🎯 Welcome to the Secret Auction!\")\n",
        "\n",
        "    username = input('Input your name:\\n')\n",
        "\n",
        "    # Bid validation loop\n",
        "    while True:\n",
        "        try:\n",
        "            bid_amount = int(input('Input your bid amount:\\n'))\n",
        "            if bid_amount <= 0:\n",
        "                print(\"❌ Bid must be a **positive number**. Try again.\")\n",
        "            else:\n",
        "                break\n",
        "        except ValueError:\n",
        "            print(\"❌ Invalid input! Please enter a valid number.\")\n",
        "\n",
        "    username_bids[username] = bid_amount\n",
        "\n",
        "    left_bidders = input(\"Is there any remaining bidder? (Yes/No)\\n\").strip().lower()\n",
        "    if left_bidders == 'no':\n",
        "        remaining_bidders = False\n",
        "\n",
        "# Determine the highest bid\n",
        "highest_bid = max(username_bids.values())\n",
        "\n",
        "# Announce winner(s)\n",
        "for name, bid in username_bids.items():\n",
        "    if bid == highest_bid:\n",
        "        print(f\"\\n🏆 {name}, you have won the bidding with a bid of ₹{highest_bid}!\")\n"
      ],
      "metadata": {
        "colab": {
          "base_uri": "https://localhost:8080/"
        },
        "id": "-1daEWmhY80D",
        "outputId": "d79fabf8-cf72-4e32-a461-c8c78968cae8"
      },
      "execution_count": 2,
      "outputs": [
        {
          "output_type": "stream",
          "name": "stdout",
          "text": [
            "🎯 Welcome to the Secret Auction!\n",
            "Input your name:\n",
            "sourav\n",
            "Input your bid amount:\n",
            "200\n",
            "Is there any remaining bidder? (Yes/No)\n",
            "yes\n",
            "🎯 Welcome to the Secret Auction!\n",
            "Input your name:\n",
            "divya\n",
            "Input your bid amount:\n",
            "500\n",
            "Is there any remaining bidder? (Yes/No)\n",
            "yes\n",
            "🎯 Welcome to the Secret Auction!\n",
            "Input your name:\n",
            "priya\n",
            "Input your bid amount:\n",
            "100\n",
            "Is there any remaining bidder? (Yes/No)\n",
            "no\n",
            "\n",
            "🏆 divya, you have won the bidding with a bid of ₹500!\n"
          ]
        }
      ]
    },
    {
      "cell_type": "markdown",
      "source": [
        "nstead of typing in the terminal, you use buttons, input boxes, and windows (like a real app).\n",
        "\n",
        "📌 You’ll use a library like:\n",
        "Tkinter (built-in with Python)\n",
        "PyQt, Kivy (more advanced)\n",
        "\n",
        "\n",
        "GUI into will happen on day 18 will look into this on day 18\n"
      ],
      "metadata": {
        "id": "Mp_yJCpxebER"
      }
    }
  ]
}