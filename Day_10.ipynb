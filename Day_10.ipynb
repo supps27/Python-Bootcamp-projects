{
  "nbformat": 4,
  "nbformat_minor": 0,
  "metadata": {
    "colab": {
      "provenance": [],
      "authorship_tag": "ABX9TyMNmLoe1Fy8cppci+dClGpl",
      "include_colab_link": true
    },
    "kernelspec": {
      "name": "python3",
      "display_name": "Python 3"
    },
    "language_info": {
      "name": "python"
    }
  },
  "cells": [
    {
      "cell_type": "markdown",
      "metadata": {
        "id": "view-in-github",
        "colab_type": "text"
      },
      "source": [
        "<a href=\"https://colab.research.google.com/github/supps27/Python-Bootcamp-projects/blob/main/Day_10.ipynb\" target=\"_parent\"><img src=\"https://colab.research.google.com/assets/colab-badge.svg\" alt=\"Open In Colab\"/></a>"
      ]
    },
    {
      "cell_type": "markdown",
      "source": [
        "#Funcutions with outputs"
      ],
      "metadata": {
        "id": "gpUkessMwuhh"
      }
    },
    {
      "cell_type": "code",
      "execution_count": 1,
      "metadata": {
        "id": "tKha7xB-wpcT",
        "colab": {
          "base_uri": "https://localhost:8080/",
          "height": 137
        },
        "outputId": "cb66dadf-29b8-4ae9-aa34-3c41ca4db72e"
      },
      "outputs": [
        {
          "output_type": "stream",
          "name": "stdout",
          "text": [
            "Enter your firdt name to modifysourav\n",
            "Enter your last name thakur\n",
            "SouravThakur\n",
            "Enter your text\n",
            "hello\n",
            "Hellohello\n"
          ]
        },
        {
          "output_type": "execute_result",
          "data": {
            "text/plain": [
              "'Hello'"
            ],
            "application/vnd.google.colaboratory.intrinsic+json": {
              "type": "string"
            }
          },
          "metadata": {},
          "execution_count": 1
        }
      ],
      "source": [
        "#funcutions\n",
        "f_name=input('Enter your firdt name to modify')\n",
        "l_name=input('Enter your last name ')\n",
        "def modify_names(f_name,l_name):\n",
        "    f_modified=f_name.title()\n",
        "    l_modified=l_name.title()\n",
        "    modified_name=f_modified+l_modified\n",
        "    print(modified_name)\n",
        "modify_names(f_name,l_name)\n",
        "\n",
        "\n",
        "    #now we will take return insted of printing\n",
        "\n",
        "text=input('Enter your text\\n')\n",
        "\n",
        "def change(text):\n",
        "    return text+text\n",
        "\n",
        "\n",
        "def change_2(text):\n",
        "    return text.title()\n",
        "\n",
        "output=change_2(change(text))\n",
        "print(output)\n",
        "\n",
        "change(text)\n",
        "change_2(text)"
      ]
    },
    {
      "cell_type": "code",
      "source": [
        "#more return in funcution\n",
        "def modify_names(f_name,l_name):\n",
        "    if f_name=='' or l_name=='':\n",
        "        return 'you did not provide any valid input'                      #this will return nothing if user input is empty\n",
        "    f_modified=f_name.title()\n",
        "    l_modified=l_name.title()\n",
        "    modified_name=f_modified+l_modified\n",
        "    print(modified_name)\n",
        "modify_names(input('what is your first name\\n'),input('what is your last name\\n'))\n",
        "#removed input drictly taking it in funcution\n",
        "\n",
        "#example of multiple return in same funcution\n",
        "\n",
        "\n",
        ""
      ],
      "metadata": {
        "colab": {
          "base_uri": "https://localhost:8080/",
          "height": 103
        },
        "id": "1dncGgcoS8oW",
        "outputId": "86297bd7-78c1-44d8-a42b-2c3d25f72119"
      },
      "execution_count": 4,
      "outputs": [
        {
          "name": "stdout",
          "output_type": "stream",
          "text": [
            "what is your first name\n",
            "\n",
            "what is your last name\n",
            "\n"
          ]
        },
        {
          "output_type": "execute_result",
          "data": {
            "text/plain": [
              "'you did not provide any valid input'"
            ],
            "application/vnd.google.colaboratory.intrinsic+json": {
              "type": "string"
            }
          },
          "metadata": {},
          "execution_count": 4
        }
      ]
    },
    {
      "cell_type": "code",
      "source": [
        "#Doc strings\n",
        "def modify_names(f_name,l_name):\n",
        "    \"\"\"Take first name and last name and\n",
        "    return title of it\"\"\" #this is doc string of our defined funcution goes\n",
        "                          #immediately after definging funcution\n",
        "\n",
        "    if f_name=='' or l_name=='':\n",
        "        return 'you did not provide any valid input'                      #this will return nothing if user input is empty\n",
        "    f_modified=f_name.title()\n",
        "    l_modified=l_name.title()\n",
        "    modified_name=f_modified+l_modified\n",
        "    print(modified_name)\n",
        "modify_names(input('what is your first name\\n'),input('what is your last name\\n'))\n"
      ],
      "metadata": {
        "colab": {
          "base_uri": "https://localhost:8080/",
          "height": 316
        },
        "id": "V-8Wk6II4Lk9",
        "outputId": "fc532057-f576-4d79-d30c-0e31225bfe79"
      },
      "execution_count": 5,
      "outputs": [
        {
          "output_type": "error",
          "ename": "KeyboardInterrupt",
          "evalue": "Interrupted by user",
          "traceback": [
            "\u001b[0;31m---------------------------------------------------------------------------\u001b[0m",
            "\u001b[0;31mKeyboardInterrupt\u001b[0m                         Traceback (most recent call last)",
            "\u001b[0;32m/tmp/ipython-input-5-19893577.py\u001b[0m in \u001b[0;36m<cell line: 0>\u001b[0;34m()\u001b[0m\n\u001b[1;32m      8\u001b[0m     \u001b[0mmodified_name\u001b[0m\u001b[0;34m=\u001b[0m\u001b[0mf_modified\u001b[0m\u001b[0;34m+\u001b[0m\u001b[0ml_modified\u001b[0m\u001b[0;34m\u001b[0m\u001b[0;34m\u001b[0m\u001b[0m\n\u001b[1;32m      9\u001b[0m     \u001b[0mprint\u001b[0m\u001b[0;34m(\u001b[0m\u001b[0mmodified_name\u001b[0m\u001b[0;34m)\u001b[0m\u001b[0;34m\u001b[0m\u001b[0;34m\u001b[0m\u001b[0m\n\u001b[0;32m---> 10\u001b[0;31m \u001b[0mmodify_names\u001b[0m\u001b[0;34m(\u001b[0m\u001b[0minput\u001b[0m\u001b[0;34m(\u001b[0m\u001b[0;34m'what is your first name\\n'\u001b[0m\u001b[0;34m)\u001b[0m\u001b[0;34m,\u001b[0m\u001b[0minput\u001b[0m\u001b[0;34m(\u001b[0m\u001b[0;34m'what is your last name\\n'\u001b[0m\u001b[0;34m)\u001b[0m\u001b[0;34m)\u001b[0m\u001b[0;34m\u001b[0m\u001b[0;34m\u001b[0m\u001b[0m\n\u001b[0m",
            "\u001b[0;32m/usr/local/lib/python3.11/dist-packages/ipykernel/kernelbase.py\u001b[0m in \u001b[0;36mraw_input\u001b[0;34m(self, prompt)\u001b[0m\n\u001b[1;32m   1175\u001b[0m                 \u001b[0;34m\"raw_input was called, but this frontend does not support input requests.\"\u001b[0m\u001b[0;34m\u001b[0m\u001b[0;34m\u001b[0m\u001b[0m\n\u001b[1;32m   1176\u001b[0m             )\n\u001b[0;32m-> 1177\u001b[0;31m         return self._input_request(\n\u001b[0m\u001b[1;32m   1178\u001b[0m             \u001b[0mstr\u001b[0m\u001b[0;34m(\u001b[0m\u001b[0mprompt\u001b[0m\u001b[0;34m)\u001b[0m\u001b[0;34m,\u001b[0m\u001b[0;34m\u001b[0m\u001b[0;34m\u001b[0m\u001b[0m\n\u001b[1;32m   1179\u001b[0m             \u001b[0mself\u001b[0m\u001b[0;34m.\u001b[0m\u001b[0m_parent_ident\u001b[0m\u001b[0;34m[\u001b[0m\u001b[0;34m\"shell\"\u001b[0m\u001b[0;34m]\u001b[0m\u001b[0;34m,\u001b[0m\u001b[0;34m\u001b[0m\u001b[0;34m\u001b[0m\u001b[0m\n",
            "\u001b[0;32m/usr/local/lib/python3.11/dist-packages/ipykernel/kernelbase.py\u001b[0m in \u001b[0;36m_input_request\u001b[0;34m(self, prompt, ident, parent, password)\u001b[0m\n\u001b[1;32m   1217\u001b[0m             \u001b[0;32mexcept\u001b[0m \u001b[0mKeyboardInterrupt\u001b[0m\u001b[0;34m:\u001b[0m\u001b[0;34m\u001b[0m\u001b[0;34m\u001b[0m\u001b[0m\n\u001b[1;32m   1218\u001b[0m                 \u001b[0;31m# re-raise KeyboardInterrupt, to truncate traceback\u001b[0m\u001b[0;34m\u001b[0m\u001b[0;34m\u001b[0m\u001b[0m\n\u001b[0;32m-> 1219\u001b[0;31m                 \u001b[0;32mraise\u001b[0m \u001b[0mKeyboardInterrupt\u001b[0m\u001b[0;34m(\u001b[0m\u001b[0;34m\"Interrupted by user\"\u001b[0m\u001b[0;34m)\u001b[0m \u001b[0;32mfrom\u001b[0m \u001b[0;32mNone\u001b[0m\u001b[0;34m\u001b[0m\u001b[0;34m\u001b[0m\u001b[0m\n\u001b[0m\u001b[1;32m   1220\u001b[0m             \u001b[0;32mexcept\u001b[0m \u001b[0mException\u001b[0m\u001b[0;34m:\u001b[0m\u001b[0;34m\u001b[0m\u001b[0;34m\u001b[0m\u001b[0m\n\u001b[1;32m   1221\u001b[0m                 \u001b[0mself\u001b[0m\u001b[0;34m.\u001b[0m\u001b[0mlog\u001b[0m\u001b[0;34m.\u001b[0m\u001b[0mwarning\u001b[0m\u001b[0;34m(\u001b[0m\u001b[0;34m\"Invalid Message:\"\u001b[0m\u001b[0;34m,\u001b[0m \u001b[0mexc_info\u001b[0m\u001b[0;34m=\u001b[0m\u001b[0;32mTrue\u001b[0m\u001b[0;34m)\u001b[0m\u001b[0;34m\u001b[0m\u001b[0;34m\u001b[0m\u001b[0m\n",
            "\u001b[0;31mKeyboardInterrupt\u001b[0m: Interrupted by user"
          ]
        }
      ]
    },
    {
      "cell_type": "code",
      "source": [
        "#making simple calculator\n",
        "\n",
        "def add(a,b):\n",
        "    return a+b\n",
        "\n",
        "def sub(a,b):\n",
        "    return a-b\n",
        "def multiply(a,b):\n",
        "    return a*b\n",
        "def devide(a,b):\n",
        "    return a/b\n",
        "\n",
        "\n",
        "a=int(input('Enter your first number\\n'))\n",
        "operation=input('choose operation from + - * /')\n",
        "b=int(input('Enter your second number\\n'))\n",
        "def calculator(a,b):\n",
        "    if operation=='+':\n",
        "       return add(a,b)\n",
        "    elif operation=='-':\n",
        "       return sub(a,b)\n",
        "    elif operation=='*':\n",
        "      return  multiply(a,b)\n",
        "    elif operation=='/':\n",
        "       return devide(a,b)\n",
        "    previous_op=calculator(a,b)\n",
        "    further=input(f'for new calculation type n or calculate with{previous_op}')\n",
        "    if further=='n':\n",
        "        calculator(a=input('Enter your first number'),b=input('enter your second number'))\n",
        "    else:\n",
        "        calculator(previous_op,b=input('enter your second number'))\n",
        "\n",
        "print(calculator(a,b))\n",
        "\n",
        "\n",
        "\n"
      ],
      "metadata": {
        "colab": {
          "base_uri": "https://localhost:8080/"
        },
        "id": "U_gJyb2w-AYI",
        "outputId": "cb54c52e-6e3d-4874-85f1-a02dfb35cf3d"
      },
      "execution_count": 13,
      "outputs": [
        {
          "output_type": "stream",
          "name": "stdout",
          "text": [
            "Enter your first number\n",
            "1\n",
            "choose operation from + - * /+\n",
            "Enter your second number\n",
            "2\n",
            "3\n"
          ]
        }
      ]
    },
    {
      "cell_type": "code",
      "source": [
        "#fixed virson using GPT\n",
        "def add(a, b):\n",
        "    return a + b\n",
        "\n",
        "def sub(a, b):\n",
        "    return a - b\n",
        "\n",
        "def multiply(a, b):\n",
        "    return a * b\n",
        "\n",
        "def devide(a, b):\n",
        "    return a / b\n",
        "\n",
        "def calculator(a, b, operation):\n",
        "    if operation == '+':\n",
        "        result = add(a, b)\n",
        "    elif operation == '-':\n",
        "        result = sub(a, b)\n",
        "    elif operation == '*':\n",
        "        result = multiply(a, b)\n",
        "    elif operation == '/':\n",
        "        result = devide(a, b)\n",
        "    else:\n",
        "        print(\"Invalid operation\")\n",
        "        return None\n",
        "\n",
        "    print(\"Result:\", result)\n",
        "\n",
        "    further = input(f\"To start new calculation type 'n', or continue with {result}: \")\n",
        "\n",
        "    if further == 'n':\n",
        "        a = int(input('Enter your first number: '))\n",
        "        op = input('Choose operation from + - * /: ')\n",
        "        b = int(input('Enter your second number: '))\n",
        "        return calculator(a, b, op)\n",
        "    else:\n",
        "        b = int(input('Enter your next number: '))\n",
        "        op = input('Choose operation from + - * /: ')\n",
        "        return calculator(result, b, op)\n",
        "\n",
        "# Initial input\n",
        "a = int(input('Enter your first number: '))\n",
        "operation = input('Choose operation from + - * /: ')\n",
        "b = int(input('Enter your second number: '))\n",
        "\n",
        "calculator(a, b, operation)\n"
      ],
      "metadata": {
        "colab": {
          "base_uri": "https://localhost:8080/",
          "height": 452
        },
        "id": "py2x06jzZ55l",
        "outputId": "ae3f65d8-9262-41c7-9189-9ddcc0d16487"
      },
      "execution_count": 14,
      "outputs": [
        {
          "output_type": "stream",
          "name": "stdout",
          "text": [
            "Enter your first number: 2\n",
            "Choose operation from + - * /: +\n",
            "Enter your second number: 3\n",
            "Result: 5\n",
            "To start new calculation type 'n', or continue with 5: 5\n",
            "Enter your next number: 10\n",
            "Choose operation from + - * /: +\n",
            "Result: 15\n"
          ]
        },
        {
          "output_type": "error",
          "ename": "KeyboardInterrupt",
          "evalue": "Interrupted by user",
          "traceback": [
            "\u001b[0;31m---------------------------------------------------------------------------\u001b[0m",
            "\u001b[0;31mKeyboardInterrupt\u001b[0m                         Traceback (most recent call last)",
            "\u001b[0;32m/tmp/ipython-input-14-1062597736.py\u001b[0m in \u001b[0;36m<cell line: 0>\u001b[0;34m()\u001b[0m\n\u001b[1;32m     44\u001b[0m \u001b[0mb\u001b[0m \u001b[0;34m=\u001b[0m \u001b[0mint\u001b[0m\u001b[0;34m(\u001b[0m\u001b[0minput\u001b[0m\u001b[0;34m(\u001b[0m\u001b[0;34m'Enter your second number: '\u001b[0m\u001b[0;34m)\u001b[0m\u001b[0;34m)\u001b[0m\u001b[0;34m\u001b[0m\u001b[0;34m\u001b[0m\u001b[0m\n\u001b[1;32m     45\u001b[0m \u001b[0;34m\u001b[0m\u001b[0m\n\u001b[0;32m---> 46\u001b[0;31m \u001b[0mcalculator\u001b[0m\u001b[0;34m(\u001b[0m\u001b[0ma\u001b[0m\u001b[0;34m,\u001b[0m \u001b[0mb\u001b[0m\u001b[0;34m,\u001b[0m \u001b[0moperation\u001b[0m\u001b[0;34m)\u001b[0m\u001b[0;34m\u001b[0m\u001b[0;34m\u001b[0m\u001b[0m\n\u001b[0m",
            "\u001b[0;32m/tmp/ipython-input-14-1062597736.py\u001b[0m in \u001b[0;36mcalculator\u001b[0;34m(a, b, operation)\u001b[0m\n\u001b[1;32m     37\u001b[0m         \u001b[0mb\u001b[0m \u001b[0;34m=\u001b[0m \u001b[0mint\u001b[0m\u001b[0;34m(\u001b[0m\u001b[0minput\u001b[0m\u001b[0;34m(\u001b[0m\u001b[0;34m'Enter your next number: '\u001b[0m\u001b[0;34m)\u001b[0m\u001b[0;34m)\u001b[0m\u001b[0;34m\u001b[0m\u001b[0;34m\u001b[0m\u001b[0m\n\u001b[1;32m     38\u001b[0m         \u001b[0mop\u001b[0m \u001b[0;34m=\u001b[0m \u001b[0minput\u001b[0m\u001b[0;34m(\u001b[0m\u001b[0;34m'Choose operation from + - * /: '\u001b[0m\u001b[0;34m)\u001b[0m\u001b[0;34m\u001b[0m\u001b[0;34m\u001b[0m\u001b[0m\n\u001b[0;32m---> 39\u001b[0;31m         \u001b[0;32mreturn\u001b[0m \u001b[0mcalculator\u001b[0m\u001b[0;34m(\u001b[0m\u001b[0mresult\u001b[0m\u001b[0;34m,\u001b[0m \u001b[0mb\u001b[0m\u001b[0;34m,\u001b[0m \u001b[0mop\u001b[0m\u001b[0;34m)\u001b[0m\u001b[0;34m\u001b[0m\u001b[0;34m\u001b[0m\u001b[0m\n\u001b[0m\u001b[1;32m     40\u001b[0m \u001b[0;34m\u001b[0m\u001b[0m\n\u001b[1;32m     41\u001b[0m \u001b[0;31m# Initial input\u001b[0m\u001b[0;34m\u001b[0m\u001b[0;34m\u001b[0m\u001b[0m\n",
            "\u001b[0;32m/tmp/ipython-input-14-1062597736.py\u001b[0m in \u001b[0;36mcalculator\u001b[0;34m(a, b, operation)\u001b[0m\n\u001b[1;32m     27\u001b[0m     \u001b[0mprint\u001b[0m\u001b[0;34m(\u001b[0m\u001b[0;34m\"Result:\"\u001b[0m\u001b[0;34m,\u001b[0m \u001b[0mresult\u001b[0m\u001b[0;34m)\u001b[0m\u001b[0;34m\u001b[0m\u001b[0;34m\u001b[0m\u001b[0m\n\u001b[1;32m     28\u001b[0m \u001b[0;34m\u001b[0m\u001b[0m\n\u001b[0;32m---> 29\u001b[0;31m     \u001b[0mfurther\u001b[0m \u001b[0;34m=\u001b[0m \u001b[0minput\u001b[0m\u001b[0;34m(\u001b[0m\u001b[0;34mf\"To start new calculation type 'n', or continue with {result}: \"\u001b[0m\u001b[0;34m)\u001b[0m\u001b[0;34m\u001b[0m\u001b[0;34m\u001b[0m\u001b[0m\n\u001b[0m\u001b[1;32m     30\u001b[0m \u001b[0;34m\u001b[0m\u001b[0m\n\u001b[1;32m     31\u001b[0m     \u001b[0;32mif\u001b[0m \u001b[0mfurther\u001b[0m \u001b[0;34m==\u001b[0m \u001b[0;34m'n'\u001b[0m\u001b[0;34m:\u001b[0m\u001b[0;34m\u001b[0m\u001b[0;34m\u001b[0m\u001b[0m\n",
            "\u001b[0;32m/usr/local/lib/python3.11/dist-packages/ipykernel/kernelbase.py\u001b[0m in \u001b[0;36mraw_input\u001b[0;34m(self, prompt)\u001b[0m\n\u001b[1;32m   1175\u001b[0m                 \u001b[0;34m\"raw_input was called, but this frontend does not support input requests.\"\u001b[0m\u001b[0;34m\u001b[0m\u001b[0;34m\u001b[0m\u001b[0m\n\u001b[1;32m   1176\u001b[0m             )\n\u001b[0;32m-> 1177\u001b[0;31m         return self._input_request(\n\u001b[0m\u001b[1;32m   1178\u001b[0m             \u001b[0mstr\u001b[0m\u001b[0;34m(\u001b[0m\u001b[0mprompt\u001b[0m\u001b[0;34m)\u001b[0m\u001b[0;34m,\u001b[0m\u001b[0;34m\u001b[0m\u001b[0;34m\u001b[0m\u001b[0m\n\u001b[1;32m   1179\u001b[0m             \u001b[0mself\u001b[0m\u001b[0;34m.\u001b[0m\u001b[0m_parent_ident\u001b[0m\u001b[0;34m[\u001b[0m\u001b[0;34m\"shell\"\u001b[0m\u001b[0;34m]\u001b[0m\u001b[0;34m,\u001b[0m\u001b[0;34m\u001b[0m\u001b[0;34m\u001b[0m\u001b[0m\n",
            "\u001b[0;32m/usr/local/lib/python3.11/dist-packages/ipykernel/kernelbase.py\u001b[0m in \u001b[0;36m_input_request\u001b[0;34m(self, prompt, ident, parent, password)\u001b[0m\n\u001b[1;32m   1217\u001b[0m             \u001b[0;32mexcept\u001b[0m \u001b[0mKeyboardInterrupt\u001b[0m\u001b[0;34m:\u001b[0m\u001b[0;34m\u001b[0m\u001b[0;34m\u001b[0m\u001b[0m\n\u001b[1;32m   1218\u001b[0m                 \u001b[0;31m# re-raise KeyboardInterrupt, to truncate traceback\u001b[0m\u001b[0;34m\u001b[0m\u001b[0;34m\u001b[0m\u001b[0m\n\u001b[0;32m-> 1219\u001b[0;31m                 \u001b[0;32mraise\u001b[0m \u001b[0mKeyboardInterrupt\u001b[0m\u001b[0;34m(\u001b[0m\u001b[0;34m\"Interrupted by user\"\u001b[0m\u001b[0;34m)\u001b[0m \u001b[0;32mfrom\u001b[0m \u001b[0;32mNone\u001b[0m\u001b[0;34m\u001b[0m\u001b[0;34m\u001b[0m\u001b[0m\n\u001b[0m\u001b[1;32m   1220\u001b[0m             \u001b[0;32mexcept\u001b[0m \u001b[0mException\u001b[0m\u001b[0;34m:\u001b[0m\u001b[0;34m\u001b[0m\u001b[0;34m\u001b[0m\u001b[0m\n\u001b[1;32m   1221\u001b[0m                 \u001b[0mself\u001b[0m\u001b[0;34m.\u001b[0m\u001b[0mlog\u001b[0m\u001b[0;34m.\u001b[0m\u001b[0mwarning\u001b[0m\u001b[0;34m(\u001b[0m\u001b[0;34m\"Invalid Message:\"\u001b[0m\u001b[0;34m,\u001b[0m \u001b[0mexc_info\u001b[0m\u001b[0;34m=\u001b[0m\u001b[0;32mTrue\u001b[0m\u001b[0;34m)\u001b[0m\u001b[0;34m\u001b[0m\u001b[0;34m\u001b[0m\u001b[0m\n",
            "\u001b[0;31mKeyboardInterrupt\u001b[0m: Interrupted by user"
          ]
        }
      ]
    },
    {
      "cell_type": "code",
      "source": [
        "def add(a, b):\n",
        "    return a + b\n",
        "\n",
        "def sub(a, b):\n",
        "    return a - b\n",
        "\n",
        "def multiply(a, b):\n",
        "    return a * b\n",
        "\n",
        "def devide(a, b):\n",
        "    return a / b\n",
        "\n",
        "# Dictionary mapping operators to functions\n",
        "operation = {\n",
        "    '+': add,\n",
        "    '-': sub,\n",
        "    '*': multiply,\n",
        "    '/': devide\n",
        "}\n",
        "\n",
        "def calculator():\n",
        "    num1 = float(input('Enter your 1st number: '))\n",
        "\n",
        "    while True:\n",
        "        for operator in operation:\n",
        "            print(operator)\n",
        "\n",
        "        operation_symbol = input('Pick an operation: ')\n",
        "        num2 = float(input('Enter your next number: '))\n",
        "\n",
        "        answer = operation[operation_symbol](num1, num2)\n",
        "        print(f'{num1} {operation_symbol} {num2} = {answer}')\n",
        "\n",
        "        conti = input(f\"Type 'y' to continue calculating with {answer}, or 'n' to start over, or any other key to exit: \")\n",
        "\n",
        "        if conti == 'y':\n",
        "            num1 = answer  # carry forward result\n",
        "        elif conti == 'n':\n",
        "            num1 = float(input('Enter your new starting number: '))\n",
        "        else:\n",
        "            print(\"Calculator exited.\")\n",
        "            break\n",
        "\n",
        "calculator()\n",
        "#here no recursion is used but in gpt soln had recursion"
      ],
      "metadata": {
        "colab": {
          "base_uri": "https://localhost:8080/"
        },
        "id": "QPVFrbCfcwaO",
        "outputId": "e8a740b2-9e0b-4728-d041-7cf254a9bbed"
      },
      "execution_count": 6,
      "outputs": [
        {
          "output_type": "stream",
          "name": "stdout",
          "text": [
            "Enter your 1st number: 1\n",
            "+\n",
            "-\n",
            "*\n",
            "/\n",
            "Pick an operation: +\n",
            "Enter your next number: 1\n",
            "1.0 + 1.0 = 2.0\n",
            "Type 'y' to continue calculating with 2.0, or 'n' to start over, or any other key to exit: y\n",
            "+\n",
            "-\n",
            "*\n",
            "/\n",
            "Pick an operation: +\n",
            "Enter your next number: 1\n",
            "2.0 + 1.0 = 3.0\n",
            "Type 'y' to continue calculating with 3.0, or 'n' to start over, or any other key to exit: \n",
            "Calculator exited.\n"
          ]
        }
      ]
    }
  ]
}