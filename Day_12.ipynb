{
  "nbformat": 4,
  "nbformat_minor": 0,
  "metadata": {
    "colab": {
      "provenance": [],
      "authorship_tag": "ABX9TyOCaz1G9cnjaKdLcKZJhV9U",
      "include_colab_link": true
    },
    "kernelspec": {
      "name": "python3",
      "display_name": "Python 3"
    },
    "language_info": {
      "name": "python"
    }
  },
  "cells": [
    {
      "cell_type": "markdown",
      "metadata": {
        "id": "view-in-github",
        "colab_type": "text"
      },
      "source": [
        "<a href=\"https://colab.research.google.com/github/supps27/Python-Bootcamp-projects/blob/main/Day_12.ipynb\" target=\"_parent\"><img src=\"https://colab.research.google.com/assets/colab-badge.svg\" alt=\"Open In Colab\"/></a>"
      ]
    },
    {
      "cell_type": "markdown",
      "source": [
        "#Scope and Number gussing game"
      ],
      "metadata": {
        "id": "fGB7mexFK72n"
      }
    },
    {
      "cell_type": "code",
      "execution_count": null,
      "metadata": {
        "colab": {
          "base_uri": "https://localhost:8080/"
        },
        "id": "j9EsRKtaK1cn",
        "outputId": "d7851bf8-7dfb-48ca-9b45-37062930b568"
      },
      "outputs": [
        {
          "output_type": "stream",
          "name": "stdout",
          "text": [
            "enemies inside funcution:2\n",
            "enemies outside funcution:1\n",
            "2\n",
            "10\n",
            "skeleton\n",
            "skeleton\n"
          ]
        }
      ],
      "source": [
        " #scope\n",
        " enemies=1\n",
        "\n",
        "\n",
        " def increase_enemies():\n",
        "    enemies=2\n",
        "    print(f\"enemies inside funcution:{enemies}\")\n",
        "\n",
        "increase_enemies()\n",
        "print(f\"enemies outside funcution:{enemies}\")\n",
        "\n",
        "\n",
        "#local scope\n",
        "def drink_potion():\n",
        "    potion_strength=2\n",
        "    print(potion_strength)\n",
        "drink_potion()\n",
        "#print(potion_strength) #this will give an error as this is defined inside the funcution\n",
        "                       #local scope\n",
        "\n",
        "\n",
        "#global scope\n",
        "player_health=10\n",
        "\n",
        "def drink_potion():\n",
        "    potion_strength=2\n",
        "    print(player_health)\n",
        "\n",
        "drink_potion()\n",
        "\n",
        "\n",
        "\n"
      ]
    },
    {
      "cell_type": "markdown",
      "source": [
        "In Python, \"there is no block scope\" means that code blocks like if, for, while, and try don't create a new scope. Variables defined inside these blocks are accessible outside the block too.\n"
      ],
      "metadata": {
        "id": "CCRUUkzEPF3B"
      }
    },
    {
      "cell_type": "code",
      "source": [
        "#ther is no Block scope in python!\n",
        "game_level=3\n",
        "enemies=[\"skeleton\",\"Zombie\",\"Alien\"]\n",
        "\n",
        "# if game_level<5:\n",
        "#     new_enemy=enemies[0]\n",
        "\n",
        "# print(new_enemy) #this is accessable outside of if block\n",
        "\n",
        "\n",
        "#if it will be inside a defined funcution\n",
        "game_level=3\n",
        "enemies=[\"skeleton\",\"Zombie\",\"Alien\"]\n",
        "\n",
        "def create_enemy():\n",
        "\n",
        "    if game_level<5:\n",
        "        new_enemy=enemies[0] #here this is a local scope\n",
        "                             #this cannot be called outside this funcution\n",
        "\n",
        "\n",
        "print(new_enemy) #this will give name error\n",
        "\n"
      ],
      "metadata": {
        "colab": {
          "base_uri": "https://localhost:8080/"
        },
        "id": "nZZ4Ly6AQrIs",
        "outputId": "d7a34e1d-eb08-41e6-a583-0c1ee71214e6"
      },
      "execution_count": null,
      "outputs": [
        {
          "output_type": "stream",
          "name": "stdout",
          "text": [
            "skeleton\n"
          ]
        }
      ]
    },
    {
      "cell_type": "code",
      "source": [
        "#modifying and using global variable\n",
        "\n",
        "enemies=1\n",
        "\n",
        "def increase_enemies():\n",
        "    global enemies        #avoide modifying global scope\n",
        "                          #it will create confusion\n",
        "    enemies+=1\n",
        "    print(f\"enemies inside funcution:{enemies}\")\n",
        "\n",
        "increase_enemies()\n",
        "print(f\"enemies outside funcution:{enemies}\")"
      ],
      "metadata": {
        "colab": {
          "base_uri": "https://localhost:8080/"
        },
        "id": "liDaILbdWAN8",
        "outputId": "44fb5d4f-db24-46d3-88ec-02d0fb80d7f2"
      },
      "execution_count": null,
      "outputs": [
        {
          "output_type": "stream",
          "name": "stdout",
          "text": [
            "enemies inside funcution:2\n",
            "enemies outside funcution:2\n"
          ]
        }
      ]
    },
    {
      "cell_type": "code",
      "source": [
        "#without modifying global scope crating same funcunality\n",
        "\n",
        "enemies=1\n",
        "\n",
        "def increase_enemies(enemies):\n",
        "\n",
        "    print(f\"enemies inside funcution:{enemies}\")\n",
        "    return enemies+1\n",
        "\n",
        "enemies=increase_enemies(enemies)\n",
        "print(f\"enemies outside funcution:{enemies}\")"
      ],
      "metadata": {
        "colab": {
          "base_uri": "https://localhost:8080/"
        },
        "id": "Oc-qoa_pi0jV",
        "outputId": "e1cef36f-4d13-431e-e473-f00ec4d0246b"
      },
      "execution_count": null,
      "outputs": [
        {
          "output_type": "stream",
          "name": "stdout",
          "text": [
            "enemies inside funcution:1\n",
            "enemies outside funcution:2\n"
          ]
        }
      ]
    },
    {
      "cell_type": "markdown",
      "source": [
        "#Number gussing game\n",
        "\n",
        "computer will choose a number between 0 to 100  and we need to gusee the number\n",
        "\n",
        "\n",
        "step 1: making a list of number from 1 to 100\n",
        "\n",
        "sterp 2: computer choice will be fro using random.choice module\n",
        "\n",
        "step 3: Taking user input\n",
        "step 4 : Comparing the number with computer choice\n",
        "step 5: set it up in while loop to take a count of attempts remaning\n",
        "step 6 : if user gusses the number use brak and print you won\n"
      ],
      "metadata": {
        "id": "rQiRr9DkklYc"
      }
    },
    {
      "cell_type": "code",
      "source": [
        "def play_high_low():\n",
        "    import random\n",
        "    numbers=[i for i in range(1,101)]\n",
        "\n",
        "\n",
        "\n",
        "\n",
        "    def computer_choice():\n",
        "        computer_number=random.choice(numbers)\n",
        "        return computer_number\n",
        "    computer_number=computer_choice()\n",
        "\n",
        "    def user_input(computer_number):\n",
        "        mode=input('Enter 1 for easy mode and 2 for hard mode')\n",
        "\n",
        "        if mode == '1':\n",
        "            life = 10\n",
        "        else:\n",
        "            life = 5  # Assuming hard mode has 5 lives\n",
        "\n",
        "        while life != 0:\n",
        "            user_guess = int(input('Guess the number: '))\n",
        "\n",
        "            if computer_number == user_guess:\n",
        "                print('🎉 You won the guessing game!')\n",
        "                break\n",
        "\n",
        "            elif computer_number > user_guess:\n",
        "                print('Too low!')\n",
        "\n",
        "            else:  # Don't add a condition here\n",
        "                print('Too high!')\n",
        "\n",
        "            life -= 1\n",
        "            print(f'Lives remaining: {life}')\n",
        "\n",
        "        if life == 0:\n",
        "            print('😢 You are out of lives. Game over!')\n",
        "\n",
        "user_input(computer_number)\n",
        "\n",
        "\n",
        "\n"
      ],
      "metadata": {
        "colab": {
          "base_uri": "https://localhost:8080/"
        },
        "id": "EsbfTcK-lniw",
        "outputId": "6d0f9f02-c7ce-499a-cd57-66c68e4cd969"
      },
      "execution_count": null,
      "outputs": [
        {
          "output_type": "stream",
          "name": "stdout",
          "text": [
            "Enter 1 for easy mode and 2 for hard mode2\n",
            "Guess the number: 10\n",
            "Too low!\n",
            "Lives remaining: 4\n",
            "Guess the number: 50\n",
            "Too low!\n",
            "Lives remaining: 3\n",
            "Guess the number: 70\n",
            "Too high!\n",
            "Lives remaining: 2\n",
            "Guess the number: 60\n",
            "Too high!\n",
            "Lives remaining: 1\n",
            "Guess the number: 55\n",
            "Too low!\n",
            "Lives remaining: 0\n",
            "😢 You are out of lives. Game over!\n"
          ]
        }
      ]
    },
    {
      "cell_type": "markdown",
      "source": [
        "we could have also used randint from random module instead of making list"
      ],
      "metadata": {
        "id": "Vl2HVWyn2NRB"
      }
    },
    {
      "cell_type": "code",
      "source": [
        "#Bootcamp approch\n",
        "from random import randint\n",
        "easy_level_turns=10\n",
        "Hard_level_turns=5\n",
        "\n",
        "#Funcution to check user gusess against the actual answer\n",
        "def check_answer(user_guess,actual_answer,turns):\n",
        "    \"\"\"Checks answer against guess, returns the number of terms remaning\"\"\"\n",
        "    if user_guess>actual_answer:\n",
        "        print(\"Too high\")\n",
        "        return turns -1\n",
        "    elif user_guess<actual_answer:\n",
        "            print(\"Too low\")\n",
        "            return turns-1\n",
        "    else:\n",
        "            print(f\"you won The answer is :{actual_answer}\")\n",
        "\n",
        "\n",
        "#Funcution to set difficuilty\n",
        "def set_difficulty():\n",
        "    level=input(\"choose a difficuilty.Type 'easy' or 'hard': \" )\n",
        "    if level=='easy':\n",
        "        return easy_level_turns\n",
        "    else:\n",
        "        return Hard_level_turns\n",
        "\n",
        "def game():\n",
        "    answer=randint(1,100)\n",
        "    print(f\"Restart, the correct answer is {answer}\")\n",
        "\n",
        "    #choosing a random number between 1 to 100\n",
        "    print(\"welcome to the number gussing game!\")\n",
        "    print(\"I am thinking a number between 1 to 100\")\n",
        "\n",
        "\n",
        "    turns=set_difficulty()\n",
        "\n",
        "\n",
        "    guess=0\n",
        "    while guess!=answer:\n",
        "        print(f\"You have {turns} attempts remaning to guess the number\")\n",
        "\n",
        "        #user guess\n",
        "        guess=int(input(\"Make a guess\"))\n",
        "\n",
        "        turns=check_answer(guess,answer,turns)\n",
        "        if turns==0:\n",
        "            print(\"you've ran out of gusses , you loose\")\n",
        "            return\n",
        "        elif guess!= answer:\n",
        "            print(\"Guess again!\")\n",
        "game()"
      ],
      "metadata": {
        "id": "b-aPgF7T2M6m",
        "colab": {
          "base_uri": "https://localhost:8080/"
        },
        "outputId": "0acfd56f-ae83-45c0-f9a5-78828c6d7c07"
      },
      "execution_count": 1,
      "outputs": [
        {
          "output_type": "stream",
          "name": "stdout",
          "text": [
            "Restart, the correct answer is 81\n",
            "welcome to the number gussing game!\n",
            "I am thinking a number between 1 to 100\n",
            "choose a difficuilty.Type 'easy' or 'hard': hard\n",
            "You have 5 attempts remaning to guess the number\n",
            "Make a guess50\n",
            "Too low\n",
            "You have 4 attempts remaning to guess the number\n",
            "Make a guess70\n",
            "Too low\n",
            "You have 3 attempts remaning to guess the number\n",
            "Make a guess80\n",
            "Too low\n",
            "You have 2 attempts remaning to guess the number\n",
            "Make a guess90\n",
            "Too high\n",
            "You have 1 attempts remaning to guess the number\n",
            "Make a guess85\n",
            "Too high\n",
            "you've ran out of gusses , you loose\n"
          ]
        }
      ]
    }
  ]
}