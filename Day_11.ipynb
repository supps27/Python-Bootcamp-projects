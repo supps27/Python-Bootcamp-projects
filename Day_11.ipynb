{
  "nbformat": 4,
  "nbformat_minor": 0,
  "metadata": {
    "colab": {
      "provenance": [],
      "authorship_tag": "ABX9TyNhWaW/+FSIUukD+pAL5ZGt",
      "include_colab_link": true
    },
    "kernelspec": {
      "name": "python3",
      "display_name": "Python 3"
    },
    "language_info": {
      "name": "python"
    }
  },
  "cells": [
    {
      "cell_type": "markdown",
      "metadata": {
        "id": "view-in-github",
        "colab_type": "text"
      },
      "source": [
        "<a href=\"https://colab.research.google.com/github/supps27/Python-Bootcamp-projects/blob/main/Day_11.ipynb\" target=\"_parent\"><img src=\"https://colab.research.google.com/assets/colab-badge.svg\" alt=\"Open In Colab\"/></a>"
      ]
    },
    {
      "cell_type": "markdown",
      "source": [
        "#Blackjack project"
      ],
      "metadata": {
        "id": "QPI929lhTFug"
      }
    },
    {
      "cell_type": "code",
      "execution_count": null,
      "metadata": {
        "colab": {
          "base_uri": "https://localhost:8080/",
          "height": 122
        },
        "id": "v2B0Bk81TAvA",
        "outputId": "ac7a89a0-c659-4118-aabe-15a6ab674503"
      },
      "outputs": [
        {
          "output_type": "error",
          "ename": "SyntaxError",
          "evalue": "'function call' is an illegal expression for augmented assignment (ipython-input-22-3933303880.py, line 35)",
          "traceback": [
            "\u001b[0;36m  File \u001b[0;32m\"/tmp/ipython-input-22-3933303880.py\"\u001b[0;36m, line \u001b[0;32m35\u001b[0m\n\u001b[0;31m    dealer_card()+=dealer_draw\u001b[0m\n\u001b[0m    ^\u001b[0m\n\u001b[0;31mSyntaxError\u001b[0m\u001b[0;31m:\u001b[0m 'function call' is an illegal expression for augmented assignment\n"
          ]
        }
      ],
      "source": [
        "import random\n",
        "\n",
        "lst=[i for i in range(1,11)]\n",
        "lst.extend([10]*4)\n",
        "\n",
        "def pick_a_card():\n",
        "    card1=random.choice(lst)\n",
        "    card2=random.choice(lst)\n",
        "    print(f'your cards are {card1} and {card2}')\n",
        "    card_total=card1+card2\n",
        "    print(f'Your total is: {card_total}')\n",
        "\n",
        "    def dealer_card():\n",
        "        card1=random.choice(lst)\n",
        "        card2=random.choice(lst)\n",
        "        print(f'Dealer has {card1} and HIDDEN card')\n",
        "        return card1+card2\n",
        "    dealer_card()\n",
        "\n",
        "    while card_total<21:\n",
        "        hit_or_stay=input('Hit or Stay').lower()\n",
        "        if hit_or_stay=='hit':\n",
        "            new_card=random.choice(lst)\n",
        "            card_total+=new_card\n",
        "            print(f'You hit and got a {new_card}. Your new total is: {card_total}')\n",
        "        else:\n",
        "            break\n",
        "\n",
        "    if card_total > 21:\n",
        "        print(\"Bust!\")\n",
        "    else:\n",
        "        print(f\"You stayed with a total of: {card_total}\")\n",
        "\n",
        "        dealer_draw=random.choice(lst)\n",
        "        dealer_card()+=dealer_draw\n",
        "\n",
        "\n",
        "    return card_total # Return the final card_total here\n",
        "    return dealer_card()\n",
        "if card_total>dealer_card():\n",
        "    print('you won the blackjack')\n",
        "else:\n",
        "    print('dealer won')\n",
        "\n",
        "pick_a_card()\n",
        "\n",
        "# pick_a_card()\n",
        "\n",
        "# def dealer_card():\n",
        "#     card1=random.choice(lst)\n",
        "#     card2=random.choice(lst)\n",
        "#     print(f'Dealer has {card1} and HIDDEN card')\n",
        "# dealer_card()"
      ]
    },
    {
      "cell_type": "markdown",
      "source": [
        "restructured via GPT"
      ],
      "metadata": {
        "id": "paqh1T64krjU"
      }
    },
    {
      "cell_type": "code",
      "source": [
        "import random\n",
        "\n",
        "lst = [i for i in range(1, 11)]\n",
        "lst.extend([10]*4)\n",
        "\n",
        "def pick_a_card():\n",
        "    # Player's initial cards\n",
        "    card1 = random.choice(lst)\n",
        "    card2 = random.choice(lst)\n",
        "    card_total = card1 + card2\n",
        "    print(f'Your cards are {card1} and {card2}')\n",
        "    print(f'Your total is: {card_total}')\n",
        "\n",
        "    # Dealer's initial cards\n",
        "    dealer_card1 = random.choice(lst)\n",
        "    dealer_card2 = random.choice(lst)\n",
        "    dealer_total = dealer_card1 + dealer_card2\n",
        "    print(f'Dealer has {dealer_card1} and a HIDDEN card')\n",
        "\n",
        "    # Player decision loop\n",
        "    while card_total < 21:\n",
        "        hit_or_stay = input('Hit or Stay: ').lower()\n",
        "        if hit_or_stay == 'hit':\n",
        "            new_card = random.choice(lst)\n",
        "            card_total += new_card\n",
        "            print(f'You drew a {new_card}. New total: {card_total}')\n",
        "        else:\n",
        "            break\n",
        "\n",
        "    # Check if player busted\n",
        "    if card_total > 21:\n",
        "        print(\"You Busted! Dealer Wins.\")\n",
        "        return\n",
        "\n",
        "    # Reveal dealer's hidden card\n",
        "    print(f\"Dealer's hidden card was {dealer_card2}. Dealer's total: {dealer_total}\")\n",
        "\n",
        "    # Dealer draws till at least 17\n",
        "    while dealer_total < 17:\n",
        "        dealer_draw = random.choice(lst)\n",
        "        dealer_total += dealer_draw\n",
        "        print(f\"Dealer draws {dealer_draw}. Dealer's new total: {dealer_total}\")\n",
        "\n",
        "    # Final comparison\n",
        "    if dealer_total > 21:\n",
        "        print(\"Dealer Busted! You Win!\")\n",
        "    elif card_total > dealer_total:\n",
        "        print(\"You Win!\")\n",
        "    elif card_total < dealer_total:\n",
        "        print(\"Dealer Wins!\")\n",
        "    else:\n",
        "        print(\"It's a Tie!\")\n",
        "\n",
        "pick_a_card()\n",
        "#there is no ace support in this version of code"
      ],
      "metadata": {
        "colab": {
          "base_uri": "https://localhost:8080/"
        },
        "id": "llJcQwRikxyF",
        "outputId": "4bb937a5-7138-485f-c7c7-ee26b134d410"
      },
      "execution_count": null,
      "outputs": [
        {
          "output_type": "stream",
          "name": "stdout",
          "text": [
            "Your cards are 5 and 10\n",
            "Your total is: 15\n",
            "Dealer has 8 and a HIDDEN card\n",
            "Hit or Stay: stay\n",
            "Dealer's hidden card was 10. Dealer's total: 18\n",
            "Dealer Wins!\n"
          ]
        }
      ]
    },
    {
      "cell_type": "code",
      "source": [
        "#bootcamp code\n",
        "\n",
        "import random\n",
        "\n",
        "def deal_card():\n",
        "    \"\"\"Return a random card from the deck\"\"\"\n",
        "\n",
        "    cards=[i for i in range(2,10)]\n",
        "    cards.extend([10]*4)\n",
        "    cards.extend([11])\n",
        "\n",
        "    card=random.choice(cards)\n",
        "    return card\n",
        "\n",
        "\n",
        "def calculate_score(cards):\n",
        "    \"\"\"this funcution takes cards as an input and returns total of cards\"\"\"\n",
        "    if sum(cards)==21 and len(cards)==2:\n",
        "        return 0\n",
        "    if 11 in cards and sum(cards)>21:\n",
        "        cards.remove(11)\n",
        "        cards.append(1)\n",
        "    return sum(cards)\n",
        "\n",
        "def compare(user_score,computer_score):\n",
        "    if user_score==computer_score:\n",
        "        return 'DrawDraw🐽'\n",
        "    elif computer_score==0:\n",
        "        return \"lose, opponent has Blackjack\"\n",
        "    elif user_score==0:\n",
        "        return 'win with a blackjack'\n",
        "    elif user_score>21:\n",
        "        return \"you went over. you lose\"\n",
        "    elif computer_score>21:\n",
        "        return \"opponent went over. you win\"\n",
        "    elif user_score>computer_score:\n",
        "        return \"You win\"\n",
        "    else:\n",
        "        return \"you lose\"\n",
        "\n",
        "\n",
        "def play_game():\n",
        "    user_cards=[]\n",
        "    computer_cards=[]\n",
        "    computer_score=-1\n",
        "    user_score=-1\n",
        "\n",
        "    is_game_over=False\n",
        "\n",
        "    for _ in range(2):\n",
        "        new_card=deal_card() #insted of using this we can directly use\n",
        "        user_cards.append(deal_card())\n",
        "        computer_cards.append(deal_card())\n",
        "\n",
        "    while not is_game_over:\n",
        "\n",
        "        user_score=calculate_score(user_cards)\n",
        "        computer_score=calculate_score(computer_cards)\n",
        "        print(f'Your cards:{user_cards}, current score:{user_score}')\n",
        "        print(f\"computer's first card:{computer_cards[0]}\" )\n",
        "\n",
        "        if user_score==0 or computer_score==0 or user_score>21:\n",
        "            is_game_over=True\n",
        "        else:\n",
        "            user_should_deal=input(\"Type 'y' to get another caard, type 'n' to pass:\")\n",
        "            if user_should_deal=='y':\n",
        "                user_cards.append(deal_card())\n",
        "            else:\n",
        "                is_game_over=True\n",
        "\n",
        "    while computer_score!=0 and computer_score<17:\n",
        "        computer_cards.append(deal_card())\n",
        "        computer_score=calculate_score(computer_cards)\n",
        "\n",
        "    print(f\"your final hand:{user_cards}, final score:{user_score}\")\n",
        "    print(f\"computer final hand:{computer_cards}, final score:{computer_score}\")\n",
        "    print(compare(user_score,computer_score))\n",
        "\n",
        "while input(\"Do you want to play a game of Blackjack? Type 'y' or 'n:\")==\"y\":\n",
        "    play_game()"
      ],
      "metadata": {
        "colab": {
          "base_uri": "https://localhost:8080/"
        },
        "id": "_V9otcbnilym",
        "outputId": "c03ba2f6-fac5-48be-e6d8-25707b57ccc1"
      },
      "execution_count": 15,
      "outputs": [
        {
          "output_type": "stream",
          "name": "stdout",
          "text": [
            "Your cards:[10, 10], current score:20\n",
            "computer's first card:9\n",
            "Type 'y' to get another caard, type 'n' to pass:n\n",
            "your final hand:[10, 10], final score:20\n",
            "computer final hand:[9, 4, 4], final score:17\n",
            "You win\n"
          ]
        }
      ]
    }
  ]
}