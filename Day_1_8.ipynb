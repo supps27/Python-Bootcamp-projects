{
  "nbformat": 4,
  "nbformat_minor": 0,
  "metadata": {
    "colab": {
      "provenance": [],
      "authorship_tag": "ABX9TyOHWS8AD5+rIKpUD+3XUNma",
      "include_colab_link": true
    },
    "kernelspec": {
      "name": "python3",
      "display_name": "Python 3"
    },
    "language_info": {
      "name": "python"
    }
  },
  "cells": [
    {
      "cell_type": "markdown",
      "metadata": {
        "id": "view-in-github",
        "colab_type": "text"
      },
      "source": [
        "<a href=\"https://colab.research.google.com/github/supps27/Python-Bootcamp-projects/blob/main/Day_1_8.ipynb\" target=\"_parent\"><img src=\"https://colab.research.google.com/assets/colab-badge.svg\" alt=\"Open In Colab\"/></a>"
      ]
    },
    {
      "cell_type": "markdown",
      "source": [
        "#bulding a tip calculator"
      ],
      "metadata": {
        "id": "ouWoEC06wQtq"
      }
    },
    {
      "cell_type": "code",
      "source": [
        "print(\"Welcome to tip calculator\")\n",
        "def tip_calculator(a,b,c):\n",
        "  print('Bill amount', a)\n",
        "  print('tip percentage', b)\n",
        "  print('number of people', c)\n",
        "  total_bill = a + (a * b)/100\n",
        "  each_contry=total_bill/c\n",
        "  print(total_bill,each_contry)\n",
        "\n",
        "\n",
        "\n",
        "tip_calculator(100,10,2)\n",
        "\n",
        "\n",
        "#this is made on the basic of user defined funcution\n",
        "#let's try to make it the way course is teaching\n"
      ],
      "metadata": {
        "colab": {
          "base_uri": "https://localhost:8080/"
        },
        "id": "zgxJIATwwd6R",
        "outputId": "5a00c564-90a5-4490-8951-ba67c2957c71"
      },
      "execution_count": null,
      "outputs": [
        {
          "output_type": "stream",
          "name": "stdout",
          "text": [
            "Welcome to tip calculator\n",
            "Bill amount 100\n",
            "tip percentage 10\n",
            "number of people 2\n",
            "110.0 55.0\n"
          ]
        }
      ]
    },
    {
      "cell_type": "markdown",
      "source": [],
      "metadata": {
        "id": "d_Dawv74ybPu"
      }
    },
    {
      "cell_type": "code",
      "source": [
        "#This approch is taking step by step input\n",
        "print('Bill spliter!')\n",
        "bill=int(input('Enter your bill amount:\\n$'))    #if we will not type caste this into integer it will show error\n",
        "tip=int(input('Enter your tip%\\n'))\n",
        "split_Between=int(input('How many people to split the bill?\\n'))\n",
        "each=bill*(1+tip/100)/split_Between\n",
        "print(f'Each person should pay:{each}') #here it used f string and is used for includind values of\n",
        "                                        #variables directly into string\n",
        "\n",
        "\n",
        "\n",
        "#lets check the data type\n",
        "bill=(input('Enter your bill amount:\\n$'))\n",
        "type(bill) #here it will show string thats why we had to typecaste it to int\n"
      ],
      "metadata": {
        "colab": {
          "base_uri": "https://localhost:8080/"
        },
        "id": "mRsCPri5yohd",
        "outputId": "52055cac-0461-4e04-9641-ce5efa5cd7ab"
      },
      "execution_count": null,
      "outputs": [
        {
          "name": "stdout",
          "output_type": "stream",
          "text": [
            "Bill spliter!\n",
            "Enter your bill amount:\n",
            "$100\n",
            "Enter your tip%\n",
            "10\n",
            "How many people to split the bill?\n",
            "2\n",
            "Each person should pay:55.00000000000001\n",
            "Enter your bill amount:\n",
            "$100\n"
          ]
        },
        {
          "output_type": "execute_result",
          "data": {
            "text/plain": [
              "str"
            ]
          },
          "metadata": {},
          "execution_count": 15
        }
      ]
    },
    {
      "cell_type": "code",
      "source": [
        "import random\n",
        "lst=[1,2,3,4]\n",
        "random.choice(lst)\n",
        "#just got how to choose random item from lst\n",
        "#my own question on the go\n"
      ],
      "metadata": {
        "colab": {
          "base_uri": "https://localhost:8080/"
        },
        "id": "llqj3gu76Mf5",
        "outputId": "758be4df-41b3-4bd9-e235-6d6f98f70745"
      },
      "execution_count": null,
      "outputs": [
        {
          "output_type": "execute_result",
          "data": {
            "text/plain": [
              "1"
            ]
          },
          "metadata": {},
          "execution_count": 21
        }
      ]
    },
    {
      "cell_type": "markdown",
      "source": [
        "#if else conditional flow"
      ],
      "metadata": {
        "id": "2UcWYV2z6_uc"
      }
    },
    {
      "cell_type": "code",
      "source": [
        "#Ride decider\n",
        "height=int(input('Enter your height in cm'))\n",
        "if height>=120:\n",
        "  print('hurrey! you are ready to ride roller')\n",
        "else:\n",
        "  print('sorry! Go and drink bornvita')"
      ],
      "metadata": {
        "colab": {
          "base_uri": "https://localhost:8080/"
        },
        "id": "RV4QawZW7EwP",
        "outputId": "9f020d6b-76f2-4905-9dc9-1c39269baa33"
      },
      "execution_count": null,
      "outputs": [
        {
          "output_type": "stream",
          "name": "stdout",
          "text": [
            "Enter your height in cm150\n",
            "hurrey! you are ready to ride roller\n"
          ]
        }
      ]
    },
    {
      "cell_type": "code",
      "source": [
        "#checking a number odd or even\n",
        "number=int(input('Enter your number'))\n",
        "if number%2==0:\n",
        "  print('This number is Even')\n",
        "else:\n",
        "  ('This is a odd number')"
      ],
      "metadata": {
        "colab": {
          "base_uri": "https://localhost:8080/"
        },
        "id": "5NTh_Y5UBxnr",
        "outputId": "39678110-4855-46e5-9234-2573b1c1a8ea"
      },
      "execution_count": null,
      "outputs": [
        {
          "output_type": "stream",
          "name": "stdout",
          "text": [
            "Enter your number10\n",
            "This number is Even\n"
          ]
        }
      ]
    },
    {
      "cell_type": "markdown",
      "source": [
        "#nested if else condition"
      ],
      "metadata": {
        "id": "Y_vegbyoCx8U"
      }
    },
    {
      "cell_type": "code",
      "source": [
        "#task is to take the ride decider and put fair prices\n",
        "#if 18 yr fair is $7 else $5\n",
        "height=int(input('Enter your height in cm'))\n",
        "if height>=120:\n",
        "  print('hurrey! you are ready to ride roller')\n",
        "  age=int(input('For fair please enter your age'))\n",
        "  if age>=18:\n",
        "    tick_p=7\n",
        "    print('your ticket price is $7')\n",
        "  else:\n",
        "    tick_p=5\n",
        "    print('oh you less thn 18 year\\nyour ticket fair is $5')\n",
        "\n",
        "else:\n",
        "  print('sorry! Go and drink bornvita')\n"
      ],
      "metadata": {
        "colab": {
          "base_uri": "https://localhost:8080/"
        },
        "id": "ZSUSkFUkC143",
        "outputId": "834b21e3-58c9-42f4-f507-12824fad03b0"
      },
      "execution_count": null,
      "outputs": [
        {
          "output_type": "stream",
          "name": "stdout",
          "text": [
            "Enter your height in cm150\n",
            "hurrey! you are ready to ride roller\n",
            "For fair please enter your age17\n",
            "oh you less thn 18 year\n",
            " your ticket fair is $5\n"
          ]
        }
      ]
    },
    {
      "cell_type": "markdown",
      "source": [
        "#multiple if statments in succation"
      ],
      "metadata": {
        "id": "HxtPoCGENiW_"
      }
    },
    {
      "cell_type": "code",
      "source": [
        "#task is to get final price of ticket with photos or without photos\n",
        "p_rate=3 #this is the rate of photo\n",
        "height=int(input('Enter your height in cm'))\n",
        "if height>=120:\n",
        "  print('hurrey! you are ready to ride roller')\n",
        "  age=int(input('For fair please enter your age'))\n",
        "  if age>=18:\n",
        "    photos=str(input('Do you want photos?\\nyes or no'))\n",
        "    if photos=='yes':\n",
        "      print(f'your ticket peice is $:7+{p_rate}')\n",
        "    else:\n",
        "     print('your ticket price is $7')\n",
        "  else:\n",
        "    print('oh you less thn 18 year\\nyour ticket fair is $5')\n",
        "\n",
        "else:\n",
        "  print('sorry! Go and drink bornvita')\n",
        "\n"
      ],
      "metadata": {
        "colab": {
          "base_uri": "https://localhost:8080/"
        },
        "id": "o0jWPDObNnNI",
        "outputId": "61627a0c-331b-4d05-eb0b-bdd1cd9a1ad9"
      },
      "execution_count": null,
      "outputs": [
        {
          "output_type": "stream",
          "name": "stdout",
          "text": [
            "Enter your height in cm160\n",
            "hurrey! you are ready to ride roller\n",
            "For fair please enter your age18\n",
            "Do you want photos?\n",
            "yes or noyes\n",
            "your ticket peice is $:7+3\n"
          ]
        }
      ]
    },
    {
      "cell_type": "code",
      "source": [
        "#lets try to handle this more efficently\n",
        "p_rate=3\n",
        "t=0\n",
        "res_g=''\n",
        "def total_rate(t,p_rate):\n",
        "  if res_g=='yes':\n",
        "   final_p=t+p_rate\n",
        "   print(final_p)\n",
        "  else:\n",
        "    print(f'your ticket price only photo is $:{t}')\n",
        "\n",
        "#conditional code\n",
        "height=int(input('Enter your height in cm'))\n",
        "if height>=120:\n",
        "  print('hurrey! you are ready to ride roller')\n",
        "  age=int(input('Enter your age'))\n",
        "  if age>=18:\n",
        "    t=7\n",
        "    p_res=str(input('Do you want photos?\\n yes or no'))\n",
        "    p_res==res_g\n",
        "  elif age<18:\n",
        "    t=5\n",
        "    p_res=str(input('Do you want photos?\\n yes or no'))\n",
        "    p_res==res_g\n",
        "else:\n",
        " print('sorry! Go and drink bornvita')\n",
        "\n",
        "\n",
        "\n",
        " #currently this is not workink and i amde it more complicated\n",
        " #review this after a while\n",
        "\n",
        "\n",
        "\n",
        "\n",
        "\n"
      ],
      "metadata": {
        "colab": {
          "base_uri": "https://localhost:8080/"
        },
        "id": "agnydgI5PhzC",
        "outputId": "97970e99-b059-411d-b2e1-07ca66b77a18"
      },
      "execution_count": null,
      "outputs": [
        {
          "name": "stdout",
          "output_type": "stream",
          "text": [
            "Enter your height in cm160\n",
            "hurrey! you are ready to ride roller\n",
            "Enter your age18\n",
            "Do you want photos?\n",
            " yes or noyes\n"
          ]
        }
      ]
    },
    {
      "cell_type": "code",
      "source": [
        "#via simply adding the ticket price\n",
        "height=int(input('Enter your height in cm'))\n",
        "if height>=120:\n",
        "  print('hurrey! you are ready to ride roller')\n",
        "  age=int(input('For fair please enter your age'))\n",
        "  if age>=18:\n",
        "    tick_p=7\n",
        "\n",
        "  else:\n",
        "    tick_p=5\n",
        "\n",
        "  want_photos=str(input('Enter y for yes and n for no'))\n",
        "  if want_photos=='y':\n",
        "    tot_p=3+tick_p\n",
        "    print(tot_p)                                     #here you can look for tot_p is only upated wile conditional block is updated\n",
        "    print(f'your total ticket price is:{tot_p}')\n",
        "  else:\n",
        "    tot_p=3+tick_p\n",
        "    print(f'your total ticket price is:{tot_p}')\n",
        "\n",
        "\n",
        "\n",
        "else:\n",
        "  print('sorry! Go and drink bornvita')\n"
      ],
      "metadata": {
        "colab": {
          "base_uri": "https://localhost:8080/"
        },
        "id": "ckTK4bBgVq0S",
        "outputId": "513d7528-9993-477a-f82e-5110f145ba24"
      },
      "execution_count": null,
      "outputs": [
        {
          "output_type": "stream",
          "name": "stdout",
          "text": [
            "Enter your height in cm160\n",
            "hurrey! you are ready to ride roller\n",
            "For fair please enter your age17\n",
            "Enter y for yes and n for noy\n",
            "8\n",
            "your total ticket price is:8\n"
          ]
        }
      ]
    },
    {
      "cell_type": "code",
      "source": [
        "#pizza price calculator\n",
        "print('Welcome to pizza ordring platform')\n",
        "total_price=0\n",
        "\n",
        "size=input('what size of pizza do you want? S M or L\\n')\n",
        "peproni=input('Do you want peproni in your pizza? y or n\\n')\n",
        "cheese=input('do you want extra cheese? y or n\\n')\n",
        "\n",
        "if size=='S':\n",
        "  total_price=15\n",
        "elif si"
      ],
      "metadata": {
        "colab": {
          "base_uri": "https://localhost:8080/",
          "height": 350
        },
        "id": "S5wtd2CaYjEV",
        "outputId": "1f4ed190-d256-499b-fa78-6b6e5c2cadd7"
      },
      "execution_count": null,
      "outputs": [
        {
          "output_type": "stream",
          "name": "stdout",
          "text": [
            "Welcome to pizza ordring platform\n"
          ]
        },
        {
          "output_type": "error",
          "ename": "KeyboardInterrupt",
          "evalue": "Interrupted by user",
          "traceback": [
            "\u001b[0;31m---------------------------------------------------------------------------\u001b[0m",
            "\u001b[0;31mKeyboardInterrupt\u001b[0m                         Traceback (most recent call last)",
            "\u001b[0;32m<ipython-input-2-11b0cd621550>\u001b[0m in \u001b[0;36m<cell line: 0>\u001b[0;34m()\u001b[0m\n\u001b[1;32m      2\u001b[0m \u001b[0mprint\u001b[0m\u001b[0;34m(\u001b[0m\u001b[0;34m'Welcome to pizza ordring platform'\u001b[0m\u001b[0;34m)\u001b[0m\u001b[0;34m\u001b[0m\u001b[0;34m\u001b[0m\u001b[0m\n\u001b[1;32m      3\u001b[0m \u001b[0;34m\u001b[0m\u001b[0m\n\u001b[0;32m----> 4\u001b[0;31m \u001b[0msize\u001b[0m\u001b[0;34m=\u001b[0m\u001b[0minput\u001b[0m\u001b[0;34m(\u001b[0m\u001b[0;34m'what size of pizza do you want? S M or L\\n'\u001b[0m\u001b[0;34m)\u001b[0m\u001b[0;34m\u001b[0m\u001b[0;34m\u001b[0m\u001b[0m\n\u001b[0m",
            "\u001b[0;32m/usr/local/lib/python3.11/dist-packages/ipykernel/kernelbase.py\u001b[0m in \u001b[0;36mraw_input\u001b[0;34m(self, prompt)\u001b[0m\n\u001b[1;32m   1175\u001b[0m                 \u001b[0;34m\"raw_input was called, but this frontend does not support input requests.\"\u001b[0m\u001b[0;34m\u001b[0m\u001b[0;34m\u001b[0m\u001b[0m\n\u001b[1;32m   1176\u001b[0m             )\n\u001b[0;32m-> 1177\u001b[0;31m         return self._input_request(\n\u001b[0m\u001b[1;32m   1178\u001b[0m             \u001b[0mstr\u001b[0m\u001b[0;34m(\u001b[0m\u001b[0mprompt\u001b[0m\u001b[0;34m)\u001b[0m\u001b[0;34m,\u001b[0m\u001b[0;34m\u001b[0m\u001b[0;34m\u001b[0m\u001b[0m\n\u001b[1;32m   1179\u001b[0m             \u001b[0mself\u001b[0m\u001b[0;34m.\u001b[0m\u001b[0m_parent_ident\u001b[0m\u001b[0;34m[\u001b[0m\u001b[0;34m\"shell\"\u001b[0m\u001b[0;34m]\u001b[0m\u001b[0;34m,\u001b[0m\u001b[0;34m\u001b[0m\u001b[0;34m\u001b[0m\u001b[0m\n",
            "\u001b[0;32m/usr/local/lib/python3.11/dist-packages/ipykernel/kernelbase.py\u001b[0m in \u001b[0;36m_input_request\u001b[0;34m(self, prompt, ident, parent, password)\u001b[0m\n\u001b[1;32m   1217\u001b[0m             \u001b[0;32mexcept\u001b[0m \u001b[0mKeyboardInterrupt\u001b[0m\u001b[0;34m:\u001b[0m\u001b[0;34m\u001b[0m\u001b[0;34m\u001b[0m\u001b[0m\n\u001b[1;32m   1218\u001b[0m                 \u001b[0;31m# re-raise KeyboardInterrupt, to truncate traceback\u001b[0m\u001b[0;34m\u001b[0m\u001b[0;34m\u001b[0m\u001b[0m\n\u001b[0;32m-> 1219\u001b[0;31m                 \u001b[0;32mraise\u001b[0m \u001b[0mKeyboardInterrupt\u001b[0m\u001b[0;34m(\u001b[0m\u001b[0;34m\"Interrupted by user\"\u001b[0m\u001b[0;34m)\u001b[0m \u001b[0;32mfrom\u001b[0m \u001b[0;32mNone\u001b[0m\u001b[0;34m\u001b[0m\u001b[0;34m\u001b[0m\u001b[0m\n\u001b[0m\u001b[1;32m   1220\u001b[0m             \u001b[0;32mexcept\u001b[0m \u001b[0mException\u001b[0m\u001b[0;34m:\u001b[0m\u001b[0;34m\u001b[0m\u001b[0;34m\u001b[0m\u001b[0m\n\u001b[1;32m   1221\u001b[0m                 \u001b[0mself\u001b[0m\u001b[0;34m.\u001b[0m\u001b[0mlog\u001b[0m\u001b[0;34m.\u001b[0m\u001b[0mwarning\u001b[0m\u001b[0;34m(\u001b[0m\u001b[0;34m\"Invalid Message:\"\u001b[0m\u001b[0;34m,\u001b[0m \u001b[0mexc_info\u001b[0m\u001b[0;34m=\u001b[0m\u001b[0;32mTrue\u001b[0m\u001b[0;34m)\u001b[0m\u001b[0;34m\u001b[0m\u001b[0;34m\u001b[0m\u001b[0m\n",
            "\u001b[0;31mKeyboardInterrupt\u001b[0m: Interrupted by user"
          ]
        }
      ]
    },
    {
      "cell_type": "code",
      "source": [
        "#lets try to do this using list or dictonary\n",
        "print('Welcome to pizza ordring platform')\n",
        "total_price=0\n",
        "size={'S':15,'M':20,'L':25}\n",
        "\n",
        "u_size=input('what size of pizza do you want? S M or L\\n')\n",
        "peproni=input('Do you want peproni in your pizza? y or n\\n')\n",
        "cheese=input('do you want extra cheese? y or n\\n')\n",
        "\n",
        "for i in size:\n",
        "  if u_size==i:\n",
        "    total_price=size[i]\n",
        "  if peproni=='y':\n",
        "    total_price=total_price+2\n",
        "  if cheese=='y':\n",
        "    total_price=total_price+1\n",
        "print(total_price)\n"
      ],
      "metadata": {
        "colab": {
          "base_uri": "https://localhost:8080/"
        },
        "id": "HYMInnmeadVK",
        "outputId": "3ea331ee-d5a6-42a3-f72c-fddb30e4bb74"
      },
      "execution_count": null,
      "outputs": [
        {
          "output_type": "stream",
          "name": "stdout",
          "text": [
            "Welcome to pizza ordring platform\n",
            "what size of pizza do you want? S M or L\n",
            "L\n",
            "Do you want peproni in your pizza? y or n\n",
            "n\n",
            "do you want extra cheese? y or n\n",
            "y\n",
            "26\n"
          ]
        }
      ]
    },
    {
      "cell_type": "code",
      "source": [
        "#can we do this in making dict for everything\n",
        "total_price=0\n",
        "size={'S':15,'M':20,'L':25}\n",
        "perroni={'y':2,'n':}"
      ],
      "metadata": {
        "id": "hiw0FY1Lenjj"
      },
      "execution_count": null,
      "outputs": []
    },
    {
      "cell_type": "code",
      "source": [
        "#Treasure island game\n",
        "print('''\n",
        "\n",
        "                    ____...------------...____\n",
        "               _.-\"` /o/__ ____ __ __  __ \\o\\_`\"-._\n",
        "             .'     / /                    \\ \\     '.\n",
        "             |=====/o/======================\\o\\=====|\n",
        "             |____/_/________..____..________\\_\\____|\n",
        "             /   _/ \\_     <_o#\\__/#o_>     _/ \\_   \\\n",
        "             \\_________\\####/_________/\n",
        "              |===\\!/========================\\!/===|\n",
        "              |   |=|          .---.         |=|   |\n",
        "              |===|o|=========/     \\========|o|===|\n",
        "              |   | |         \\() ()/        | |   |\n",
        "              |===|o|======{'-.) A (.-'}=====|o|===|\n",
        "              | __/ \\__     '-.\\uuu/.-'    __/ \\__ |\n",
        "              |==== .'.'^'.'.====|\n",
        "          jgs |  _\\o/   __  {.' __  '.} _   _\\o/  _|\n",
        "              `\"\"\"\"-\"\"\"\"\"\"\"\"\"\"\"\"\"\"\"\"\"\"\"\"\"\"\"\"\"\"-\"\"\"\"`\n",
        "\n",
        "\n",
        "''')\n",
        "\n",
        "\n",
        "print('Welcome to treasure island\\nyour mission is to find out treassure')\n",
        "\n",
        "move=str(input('where you want to move Right or left\\n'))\n",
        "if move=='left':\n",
        "  move=str(input('swim or wait'))\n",
        "  if move=='wait':\n",
        "    move=str(input('which door?\\nred,blue or yellow'))\n",
        "    if move=='yellow':\n",
        "      print('you won')\n",
        "    elif move=='red':\n",
        "      print('Burned by fire.\\nGame Over.')\n",
        "    elif move=='blue':\n",
        "      print('Eaten by beasts.\\nGame Over.')\n",
        "  else:\n",
        "    print('Attacked by trout.\\nGame Over.')\n",
        "else:\n",
        "  print('Fall into a hole.\\nGame Over.')\n",
        "\n"
      ],
      "metadata": {
        "colab": {
          "base_uri": "https://localhost:8080/",
          "height": 122
        },
        "id": "C4PY-KfUL6Mv",
        "outputId": "1938e3db-d3be-44bb-d2d5-16417d00f7a9"
      },
      "execution_count": null,
      "outputs": [
        {
          "output_type": "error",
          "ename": "SyntaxError",
          "evalue": "(unicode error) 'unicodeescape' codec can't decode bytes in position 653-654: truncated \\uXXXX escape (<ipython-input-9-57762a2ad4b9>, line 22)",
          "traceback": [
            "\u001b[0;36m  File \u001b[0;32m\"<ipython-input-9-57762a2ad4b9>\"\u001b[0;36m, line \u001b[0;32m22\u001b[0m\n\u001b[0;31m    ''')\u001b[0m\n\u001b[0m       ^\u001b[0m\n\u001b[0;31mSyntaxError\u001b[0m\u001b[0;31m:\u001b[0m (unicode error) 'unicodeescape' codec can't decode bytes in position 653-654: truncated \\uXXXX escape\n"
          ]
        }
      ]
    },
    {
      "cell_type": "markdown",
      "source": [
        "#Random module for randamization\n"
      ],
      "metadata": {
        "id": "7US6Uqb1WitX"
      }
    },
    {
      "cell_type": "code",
      "source": [
        "import random\n",
        "random_int=random.randint(1,9) #this is for getting random inter in given range\n",
        "print(random_int)\n",
        "\n",
        "random_flotnum=random.random()  #for random floot number b/w 0to1\n",
        "print(random_flotnum)\n",
        "\n",
        "random_flotingpoint=random.uniform(1,9) #generates random floting point intiger between the range\n",
        "print(random_flotingpoint)"
      ],
      "metadata": {
        "colab": {
          "base_uri": "https://localhost:8080/"
        },
        "id": "X4TpstORWneJ",
        "outputId": "37914871-40dc-47a9-9aa4-39f77be328a8"
      },
      "execution_count": null,
      "outputs": [
        {
          "output_type": "stream",
          "name": "stdout",
          "text": [
            "1\n",
            "0.4446187312441806\n",
            "3.456359153511575\n"
          ]
        }
      ]
    },
    {
      "cell_type": "code",
      "source": [
        "#simulatin tossing a coin using random\n",
        "lst=['Heads','Tails']\n",
        "print(random.choice(lst))  #this is inbuilt funcution\n",
        "\n",
        "#lets try to find out via indaxing\n",
        "random_int=random.randint(0,len(lst)-1)\n",
        "print(lst[random_int])\n",
        "print(len(lst))\n",
        "\n",
        "#here length of the list is 2 and while using random.randint it is inclusive of range\n",
        "#so when it chooses 2 it shows out of range error and got fixed using len(str)-1"
      ],
      "metadata": {
        "colab": {
          "base_uri": "https://localhost:8080/"
        },
        "id": "IdwCv2P_f-h6",
        "outputId": "be93495f-6975-4d3e-b99c-8adfe15a42de"
      },
      "execution_count": null,
      "outputs": [
        {
          "output_type": "stream",
          "name": "stdout",
          "text": [
            "Heads\n",
            "Heads\n",
            "2\n"
          ]
        }
      ]
    },
    {
      "cell_type": "code",
      "source": [
        "#who will pay the bill using random\n",
        "friends=['jaikishan','shyam','chomu','suriya']\n",
        "random_friend=random.choice(friends)\n",
        "print(f'contrulation! {random_friend} you will pay the bill')"
      ],
      "metadata": {
        "colab": {
          "base_uri": "https://localhost:8080/"
        },
        "id": "Z4Ntr0t5k6Ce",
        "outputId": "b1ad9e5b-60f8-4d49-ebef-adc5a06c2000"
      },
      "execution_count": null,
      "outputs": [
        {
          "output_type": "stream",
          "name": "stdout",
          "text": [
            "contrulation! suriya you will pay the bill\n"
          ]
        }
      ]
    },
    {
      "cell_type": "code",
      "source": [
        "#nested list\n",
        "dirty_dozens=['Strawberries','Spinach','Kale','Nectarines','Apples','Grapes','Peaches','Cherries','Pears','Tomatoes','Celery','Potatoes']\n",
        "fruits=['Apple','peaches','Pear','Tomatoes','Strawberries']\n",
        "vegitables=['Potatos','Celery','Tomatoes','Spinach','Kale']\n",
        "\n",
        "dirty_dozens=[fruits,vegitables]\n",
        "print(dirty_dozens)\n",
        "#this is called list of list or nested list"
      ],
      "metadata": {
        "colab": {
          "base_uri": "https://localhost:8080/"
        },
        "id": "LKixKWcuPAhN",
        "outputId": "b49a02b4-0bfe-461b-b308-ea1571aa9cdb"
      },
      "execution_count": null,
      "outputs": [
        {
          "output_type": "stream",
          "name": "stdout",
          "text": [
            "[['Apple', 'peaches', 'Pear', 'Tomatoes', 'Strawberries'], ['Potatos', 'Celery', 'Tomatoes', 'Spinach', 'Kale']]\n"
          ]
        }
      ]
    },
    {
      "cell_type": "code",
      "source": [
        "#making rock paper sessior game\n",
        "signal='''\n",
        "     _.-._\n",
        "                    | | | |_\n",
        "                    | | | | |\n",
        "                    | | | | |\n",
        "                  _ |  '-._ |\n",
        "                  \\`\\`-.'-._;\n",
        "                   \\    '   |\n",
        "                    \\  .`  /\n",
        "              jgs    |    |\n",
        "\n",
        "\n",
        "\n",
        "'''\n",
        "print(signal)"
      ],
      "metadata": {
        "colab": {
          "base_uri": "https://localhost:8080/"
        },
        "id": "L5p2JxyUSrl_",
        "outputId": "13db503b-b207-48a3-c96c-42d69092c680"
      },
      "execution_count": null,
      "outputs": [
        {
          "output_type": "stream",
          "name": "stdout",
          "text": [
            "\n",
            "     _.-._\n",
            "                    | | | |_\n",
            "                    | | | | |\n",
            "                    | | | | |\n",
            "                  _ |  '-._ |\n",
            "                  \\`\\`-.'-._;\n",
            "                   \\    '   |\n",
            "                    \\  .`  /\n",
            "              jgs    |    |\n",
            "\n",
            "\n",
            "\n",
            "\n"
          ]
        }
      ]
    },
    {
      "cell_type": "code",
      "source": [
        "import random\n",
        "user_response=int(input('Slect stone, paper or sessior for 0,1,2'))\n",
        "response_lst=['stone','paper','sessior']\n",
        "response=response_lst[user_response]\n",
        "computer_response=random.choice(response_lst)\n",
        "win_lst=[['stone','sessior'],['paaper','stone'],['sessior','paper']]\n",
        "\n",
        "both_response_lst=[]\n",
        "both_response_lst.append(response)\n",
        "both_response_lst.append(computer_response)\n",
        "\n",
        "w=0\n",
        "for i in win_lst:\n",
        "  if i==both_response_lst:\n",
        "   w=1\n",
        "if w==1:\n",
        "  print('you win')\n",
        "  print(both_response_lst)\n",
        "  print(computer_response)\n",
        "\n",
        "elif computer_response==response:\n",
        "  print('oh this is tie')             '''\n",
        "\n",
        "                                      now this block will take care of tie situaltions\n",
        "                                      when both responses are same\n",
        "                                      '''\n",
        "  print(both_response_lst)\n",
        "  print(computer_response)\n",
        "\n",
        "else:\n",
        "   print('Shit you lost bewkoof lol')\n",
        "   print(computer_response)\n",
        "   print(both_response_lst)\n",
        "\n",
        "\n",
        "#this is done via using linked list and it fails when both user and computer will choose same response\n",
        "#this can be more efficently done via using dictonary insted of list\n",
        "\n"
      ],
      "metadata": {
        "colab": {
          "base_uri": "https://localhost:8080/"
        },
        "id": "hnStK_mmkDdX",
        "outputId": "ea298ab1-744b-4588-8d95-5f191915a434"
      },
      "execution_count": null,
      "outputs": [
        {
          "output_type": "stream",
          "name": "stdout",
          "text": [
            "Slect stone, paper or sessior for 0,1,20\n",
            "oh this is tie\n",
            "['stone', 'stone']\n",
            "stone\n"
          ]
        }
      ]
    },
    {
      "cell_type": "markdown",
      "source": [
        "#python loops\n"
      ],
      "metadata": {
        "id": "NLWcP5LQY8pb"
      }
    },
    {
      "cell_type": "code",
      "source": [
        "lst=[i for i in range(101)] #directly making the list of number 0 to 100 using loop\n",
        "print(lst)\n",
        "\n",
        "#using sum funcution\n",
        "'''\n",
        "any itriable thing in python\n",
        "this funcution can be used directly\n",
        "'''\n",
        "\n",
        "total=sum(lst)\n",
        "print(total)"
      ],
      "metadata": {
        "colab": {
          "base_uri": "https://localhost:8080/"
        },
        "id": "Rloh4fd1ibIU",
        "outputId": "b52a9510-56f7-4898-fd06-22943cd046a2"
      },
      "execution_count": null,
      "outputs": [
        {
          "output_type": "stream",
          "name": "stdout",
          "text": [
            "[0, 1, 2, 3, 4, 5, 6, 7, 8, 9, 10, 11, 12, 13, 14, 15, 16, 17, 18, 19, 20, 21, 22, 23, 24, 25, 26, 27, 28, 29, 30, 31, 32, 33, 34, 35, 36, 37, 38, 39, 40, 41, 42, 43, 44, 45, 46, 47, 48, 49, 50, 51, 52, 53, 54, 55, 56, 57, 58, 59, 60, 61, 62, 63, 64, 65, 66, 67, 68, 69, 70, 71, 72, 73, 74, 75, 76, 77, 78, 79, 80, 81, 82, 83, 84, 85, 86, 87, 88, 89, 90, 91, 92, 93, 94, 95, 96, 97, 98, 99, 100]\n",
            "5050\n"
          ]
        }
      ]
    },
    {
      "cell_type": "code",
      "source": [
        "#now doing the same problem usind only loop\n",
        "sumt=0\n",
        "i=0\n",
        "for i in range(100):   #here you dont range is 100 not 101 because it first itiration i and sum both will be 1\n",
        "  i+=1\n",
        "  sumt+=i\n",
        "print(sumt)\n",
        "print(i)\n"
      ],
      "metadata": {
        "colab": {
          "base_uri": "https://localhost:8080/"
        },
        "id": "26J9abmEjNvW",
        "outputId": "f507d02f-acc3-4986-984b-b9fc04d273ee"
      },
      "execution_count": null,
      "outputs": [
        {
          "output_type": "stream",
          "name": "stdout",
          "text": [
            "5050\n",
            "100\n"
          ]
        }
      ]
    },
    {
      "cell_type": "code",
      "source": [
        "#finding max using loop\n",
        "maxn=0\n",
        "for maxi in lst:\n",
        "  if maxn<maxi:\n",
        "    maxn=maxi\n",
        "print(maxn)\n",
        "\n",
        "\n",
        "#now findind max using builin fn\n",
        "max(lst)\n"
      ],
      "metadata": {
        "colab": {
          "base_uri": "https://localhost:8080/"
        },
        "id": "eskhRjDfl0Zs",
        "outputId": "432886dd-1777-4af3-f30f-cc05a3bbeed0"
      },
      "execution_count": null,
      "outputs": [
        {
          "output_type": "stream",
          "name": "stdout",
          "text": [
            "100\n"
          ]
        },
        {
          "output_type": "execute_result",
          "data": {
            "text/plain": [
              "100"
            ]
          },
          "metadata": {},
          "execution_count": 3
        }
      ]
    },
    {
      "cell_type": "code",
      "source": [
        "#Password generator machine\n",
        "import string\n",
        "import random\n",
        "\n",
        "uppercase_alphabet = string.ascii_uppercase\n",
        "\n",
        "\n",
        "\n",
        "uppercase_alphabet = [chr(i) for i in range(ord('A'), ord('Z') + 1)] #please go through this\n",
        "\n",
        "\n",
        "print(uppercase_alphabet)\n",
        "\n",
        "spl_crr=list(string.punctuation)\n",
        "print(spl_crr)\n",
        "print(len(spl_crr))\n",
        "\n",
        "number=[i for i in range(0,10)]\n",
        "print(number)\n",
        "\n",
        "\n",
        "\n",
        "#here all the required container are ready\n",
        "\n",
        "password_str=''\n",
        "length_of_p=int(input('Length of password you want?\\n'))\n",
        "no_alp=int(input('Input the total number of albhabet you want in your password\\n'))\n",
        "no_crr=int(input('Total no of symbol you want in your password\\n'))\n",
        "numrical=int(input('total numirical in your password/n'))\n",
        "\n",
        "\n",
        "for alp in range(0,no_alp):\n",
        "  password_str=random.choice(uppercase_alphabet)\n",
        "  print(password_str)\n",
        "\n",
        "for chrr in range(0,no_crr):\n",
        "  password_str=random.choice(spl_crr)\n",
        "  print(password_str)\n",
        "\n",
        "for num in range(0,numrical):\n",
        "  password_str=random.choice(number)\n",
        "  print(password_str)\n",
        "\n",
        "print(password_str)"
      ],
      "metadata": {
        "colab": {
          "base_uri": "https://localhost:8080/"
        },
        "id": "Ce2z2WAj2MHy",
        "outputId": "39c40da3-a20d-4540-e1ad-ee07f1a22a23"
      },
      "execution_count": null,
      "outputs": [
        {
          "output_type": "stream",
          "name": "stdout",
          "text": [
            "['A', 'B', 'C', 'D', 'E', 'F', 'G', 'H', 'I', 'J', 'K', 'L', 'M', 'N', 'O', 'P', 'Q', 'R', 'S', 'T', 'U', 'V', 'W', 'X', 'Y', 'Z']\n",
            "['!', '\"', '#', '$', '%', '&', \"'\", '(', ')', '*', '+', ',', '-', '.', '/', ':', ';', '<', '=', '>', '?', '@', '[', '\\\\', ']', '^', '_', '`', '{', '|', '}', '~']\n",
            "32\n",
            "[0, 1, 2, 3, 4, 5, 6, 7, 8, 9]\n",
            "Length of password you want?\n",
            "2\n",
            "Input the total number of albhabet you want in your password\n",
            "2\n",
            "Total no of symbol you want in your password\n",
            "2\n",
            "total numirical in your password/n2\n",
            "G\n",
            "W\n",
            "+\n",
            "@\n",
            "2\n",
            "0\n",
            "0\n"
          ]
        }
      ]
    },
    {
      "cell_type": "code",
      "source": [
        "#Password generator machine\n",
        "import string\n",
        "import random\n",
        "\n",
        "uppercase_alphabet = string.ascii_uppercase\n",
        "\n",
        "\n",
        "\n",
        "uppercase_alphabet = [chr(i) for i in range(ord('A'), ord('Z') + 1)] #please go through this\n",
        "\n",
        "\n",
        "print(uppercase_alphabet)\n",
        "\n",
        "spl_crr=list(string.punctuation)\n",
        "print(spl_crr)\n",
        "print(len(spl_crr))\n",
        "\n",
        "number=[str(i)for i in range(0,10)]\n",
        "print(number)\n",
        "\n",
        "\n",
        "\n",
        "#here all the required container are ready\n",
        "\n",
        "password_str=''\n",
        "length_of_p=int(input('Length of password you want?\\n'))\n",
        "no_alp=int(input('Input the total number of albhabet you want in your password\\n'))\n",
        "no_crr=int(input('Total no of symbol you want in your password\\n'))\n",
        "numrical=int(input('total numirical in your password/n'))\n",
        "\n",
        "# Ensure the total counts add up to the required password length\n",
        "if no_alp + no_crr + numrical == length_of_p:\n",
        "    print(f\"length of your password is:{length_of_p}\")\n",
        "    for alp in range(0,no_alp):\n",
        "      password_str+=random.choice(uppercase_alphabet)\n",
        "      print(password_str) # This print statement is inside the loop\n",
        "\n",
        "    for chrr in range(0,no_crr):\n",
        "     password_str+=random.choice(spl_crr)\n",
        "     print(password_str) # This print statement is inside the loop\n",
        "\n",
        "    for num in range(0,numrical):\n",
        "     password_str+=random.choice(number)\n",
        "     print(password_str) # This print statement is inside the loop\n",
        "else:\n",
        "  print('length of password exceeds please input within the range')\n",
        "\n",
        "print(password_str) # This print statement is outside the loops\n",
        "type(password_str)\n",
        "\n",
        "\n",
        "#here in this sequence of albhabet and symbol and number is fixed\n",
        "\n",
        "pass_lst=[]\n",
        "for i in range(len(password_str)):\n",
        "  pass_lst.append(password_str[i])\n",
        "print(pass_lst)\n",
        "\n",
        "random.shuffle(pass_lst)\n",
        "final_password = ''.join(pass_lst)\n",
        "\n",
        "print(\"Generated Password:\", final_password)\n",
        "\n"
      ],
      "metadata": {
        "colab": {
          "base_uri": "https://localhost:8080/"
        },
        "id": "z6Wb6Vjx7VxL",
        "outputId": "0758398f-a272-449b-c568-a5907f299e3d"
      },
      "execution_count": null,
      "outputs": [
        {
          "output_type": "stream",
          "name": "stdout",
          "text": [
            "['A', 'B', 'C', 'D', 'E', 'F', 'G', 'H', 'I', 'J', 'K', 'L', 'M', 'N', 'O', 'P', 'Q', 'R', 'S', 'T', 'U', 'V', 'W', 'X', 'Y', 'Z']\n",
            "['!', '\"', '#', '$', '%', '&', \"'\", '(', ')', '*', '+', ',', '-', '.', '/', ':', ';', '<', '=', '>', '?', '@', '[', '\\\\', ']', '^', '_', '`', '{', '|', '}', '~']\n",
            "32\n",
            "['0', '1', '2', '3', '4', '5', '6', '7', '8', '9']\n",
            "Length of password you want?\n",
            "15\n",
            "Input the total number of albhabet you want in your password\n",
            "5\n",
            "Total no of symbol you want in your password\n",
            "5\n",
            "total numirical in your password/n5\n",
            "length of your password is:15\n",
            "M\n",
            "MT\n",
            "MTE\n",
            "MTEO\n",
            "MTEOF\n",
            "MTEOF\"\n",
            "MTEOF\")\n",
            "MTEOF\"))\n",
            "MTEOF\"))&\n",
            "MTEOF\"))&^\n",
            "MTEOF\"))&^5\n",
            "MTEOF\"))&^51\n",
            "MTEOF\"))&^513\n",
            "MTEOF\"))&^5136\n",
            "MTEOF\"))&^51362\n",
            "MTEOF\"))&^51362\n",
            "['M', 'T', 'E', 'O', 'F', '\"', ')', ')', '&', '^', '5', '1', '3', '6', '2']\n",
            "Generated Password: ^3OM25&)\"F16T)E\n"
          ]
        }
      ]
    },
    {
      "cell_type": "markdown",
      "source": [
        "this is diffrent approch given via google on the basic of my previous code and it incrorprated random.shuffle and .join\n"
      ],
      "metadata": {
        "id": "ItxNP4YGWzlR"
      }
    },
    {
      "cell_type": "code",
      "source": [
        "import string\n",
        "import random\n",
        "\n",
        "# Prepare character pools\n",
        "uppercase_alphabet = list(string.ascii_uppercase)\n",
        "special_chars = list(string.punctuation)\n",
        "numbers = [str(i) for i in range(10)]  # Use string version for consistency\n",
        "\n",
        "# Get user inputs\n",
        "length_of_p = int(input('Length of password you want?\\n'))\n",
        "no_alp = int(input('Input the total number of alphabets you want in your password\\n'))\n",
        "no_crr = int(input('Total number of symbols you want in your password\\n'))\n",
        "numrical = int(input('Total number of numericals in your password\\n'))\n",
        "\n",
        "# Ensure the total counts add up to the required password length\n",
        "if no_alp + no_crr + numrical != length_of_p:\n",
        "    print(\"Error: Sum of characters doesn't match desired password length!\")\n",
        "else:\n",
        "    password_chars = []\n",
        "\n",
        "    # Select characters from each category\n",
        "    for _ in range(no_alp):\n",
        "        password_chars.append(random.choice(uppercase_alphabet))\n",
        "\n",
        "    for _ in range(no_crr):\n",
        "        password_chars.append(random.choice(special_chars))\n",
        "\n",
        "    for _ in range(numrical):\n",
        "        password_chars.append(random.choice(numbers))\n",
        "\n",
        "    # Shuffle and join\n",
        "    random.shuffle(password_chars) #this helps in making the position all random\n",
        "    final_password = ''.join(password_chars)\n",
        "\n",
        "    print(\"Generated Password:\", final_password)\n"
      ],
      "metadata": {
        "colab": {
          "base_uri": "https://localhost:8080/"
        },
        "id": "JvAc0Elw9yA5",
        "outputId": "03b80853-3b7a-43a3-8659-8c6405501cda"
      },
      "execution_count": null,
      "outputs": [
        {
          "output_type": "stream",
          "name": "stdout",
          "text": [
            "Length of password you want?\n",
            "10\n",
            "Input the total number of alphabets you want in your password\n",
            "5\n",
            "Total number of symbols you want in your password\n",
            "3\n",
            "Total number of numericals in your password\n",
            "2\n",
            "Generated Password: A&F4U::PZ9\n"
          ]
        }
      ]
    },
    {
      "cell_type": "code",
      "source": [
        "#hangman game\n",
        "#choosing a random word and making hangman figure with each of the wrong guess\n",
        "import random\n",
        "\n",
        "word_list=['apple','banana','cake']\n",
        "rand_word=list(random.choice(word_list))\n",
        "word_length=len(rand_word)\n",
        "print('-'* word_length)\n",
        "for i in range(word_length):\n",
        "    guess_letter=input('guess the letter')\n",
        "\n",
        "\n",
        "    #i built this logic but was unable to go any further #\n"
      ],
      "metadata": {
        "colab": {
          "base_uri": "https://localhost:8080/"
        },
        "id": "MS8Fx9fequX4",
        "outputId": "89489f10-9c67-4ca3-ba25-27a5374ec2e3"
      },
      "execution_count": null,
      "outputs": [
        {
          "output_type": "stream",
          "name": "stdout",
          "text": [
            "------\n"
          ]
        }
      ]
    },
    {
      "cell_type": "code",
      "source": [
        "#hangman game\n",
        "#choosing a random word and making hangman figure with each of the wrong guess\n",
        "import random\n",
        "\n",
        "word_list=['apple','banana','cake']\n",
        "rand_word=random.choice(word_list)\n",
        "word_length=len(rand_word)\n",
        "\n",
        "# Create a list to represent the display, initially with underscores\n",
        "display = ['_'] * word_length\n",
        "print(' '.join(display)) # Print with spaces for readability\n",
        "\n",
        "guess_letter = input('guess the letter: ')\n",
        "\n",
        "# Iterate through the word to check for the guessed letter\n",
        "for position in range(word_length):\n",
        "    letter = rand_word[position] # Get the letter at the current position\n",
        "\n",
        "    if letter == guess_letter:\n",
        "        display[position] = letter # If there's a match, update the display list\n",
        "\n",
        "print(' '.join(display)) # Print the updated display"
      ],
      "metadata": {
        "colab": {
          "base_uri": "https://localhost:8080/"
        },
        "id": "iK8juj_vsGCK",
        "outputId": "b85079ea-bbe2-4633-afc7-020c185d0f41"
      },
      "execution_count": null,
      "outputs": [
        {
          "output_type": "stream",
          "name": "stdout",
          "text": [
            "_ _ _ _ _ _\n",
            "guess the letter: n\n",
            "_ _ n _ n _\n"
          ]
        }
      ]
    },
    {
      "cell_type": "code",
      "source": [
        "#hangman game\n",
        "#choosing a random word and making hangman figure with each of the wrong guess\n",
        "import random\n",
        "\n",
        "word_list=['apple','banana','cake']\n",
        "rand_word=random.choice(word_list)\n",
        "word_length=len(rand_word)\n",
        "\n",
        "# Create a list to represent the display, initially with underscores\n",
        "display = ['_'] * word_length\n",
        "print(' '.join(display)) # Print with spaces for readability\n",
        "\n",
        "# Keep track of whether the game is over\n",
        "end_of_game = False\n",
        "\n",
        "# Loop until the game is over (the word is guessed)\n",
        "while not end_of_game:\n",
        "    guess_letter = input('guess the letter: ').lower() # Convert guess to lowercase for case-insensitivity\n",
        "\n",
        "    # Iterate through the word to check for the guessed letter\n",
        "    for position in range(word_length):\n",
        "        letter = rand_word[position] # Get the letter at the current position\n",
        "\n",
        "        if letter == guess_letter:\n",
        "            display[position] = letter # If there's a match, update the display list\n",
        "\n",
        "    print(' '.join(display)) # Print the updated display after each guess\n",
        "\n",
        "    # Check if there are any underscores left in the display\n",
        "    if \"_\" not in display:\n",
        "        end_of_game = True\n",
        "        print(\"You win!\")\n",
        "\n",
        "# You'll need to add logic for incorrect guesses, tracking lives, and displaying the hangman figure\n",
        "# For now, this loop will just end when the word is fully revealed."
      ],
      "metadata": {
        "colab": {
          "base_uri": "https://localhost:8080/"
        },
        "id": "xbi8RofKwWw4",
        "outputId": "07560ea7-61a9-424b-a65e-b5abb576e29b"
      },
      "execution_count": null,
      "outputs": [
        {
          "output_type": "stream",
          "name": "stdout",
          "text": [
            "_ _ _ _ _\n",
            "guess the letter: p\n",
            "_ p p _ _\n",
            "guess the letter: l\n",
            "_ p p l _\n",
            "guess the letter: e\n",
            "_ p p l e\n",
            "guess the letter: a\n",
            "a p p l e\n",
            "You win!\n"
          ]
        }
      ]
    },
    {
      "cell_type": "markdown",
      "source": [
        "I was unable to solve this problem on my own and tried geminni and came with the code of block before"
      ],
      "metadata": {
        "id": "Bx7MPxmbxlZy"
      }
    },
    {
      "cell_type": "markdown",
      "source": [
        "now here i am following how it is taught in the course\n"
      ],
      "metadata": {
        "id": "7IPhsmYWxwP1"
      }
    },
    {
      "cell_type": "code",
      "source": [
        "word_list=['apple','banana','grapes']\n",
        "\n",
        "import random\n",
        "chosen_word=random.choice(word_list)\n",
        "print(chosen_word)\n",
        "\n",
        "game_over=False\n",
        "correct_wd=[]\n",
        "live=6\n",
        "\n",
        "while not game_over:\n",
        "\n",
        "\n",
        "\n",
        "    #gusseing a letter\n",
        "    guess=input('guess a letter:').lower()\n",
        "    #for displaying chosen letter\n",
        "    display=''\n",
        "    for i in chosen_word:\n",
        "        if i==guess:\n",
        "            display+=i\n",
        "            correct_wd.append(i)\n",
        "        elif i in correct_wd:\n",
        "            display+=i\n",
        "        else:\n",
        "            display+='-'\n",
        "    print(display)\n",
        "\n",
        "    #printing the length of blanks\n",
        "    placeholder=''\n",
        "\n",
        "    for i in range(len(chosen_word)):\n",
        "        placeholder+='-'\n",
        "    print(placeholder)\n",
        "\n",
        "    if guess not in chosen_word:\n",
        "        live-=1\n",
        "        if live==0:\n",
        "            game_over=True\n",
        "            print('you loose')\n",
        "    print(f'your remaning live:{live}')\n",
        "\n",
        "\n",
        "\n",
        "\n",
        "    #here every logic is working perfectly fine\n",
        "    #this is how it is done in the course\n",
        "    #here i didn't include any ASCII images\n",
        "\n"
      ],
      "metadata": {
        "colab": {
          "base_uri": "https://localhost:8080/"
        },
        "id": "WKJ2nkbbxv6Q",
        "outputId": "7c6599d4-db08-43fc-9a38-13f97894ef6e"
      },
      "execution_count": null,
      "outputs": [
        {
          "output_type": "stream",
          "name": "stdout",
          "text": [
            "grapes\n",
            "guess a letter:k\n",
            "------\n",
            "------\n",
            "your remaning live:5\n",
            "guess a letter:k\n",
            "------\n",
            "------\n",
            "your remaning live:4\n",
            "guess a letter:k\n",
            "------\n",
            "------\n",
            "your remaning live:3\n",
            "guess a letter:k\n",
            "------\n",
            "------\n",
            "your remaning live:2\n",
            "guess a letter:k\n",
            "------\n",
            "------\n",
            "your remaning live:1\n",
            "guess a letter:k\n",
            "------\n",
            "------\n",
            "you loose\n",
            "your remaning live:0\n"
          ]
        }
      ]
    },
    {
      "cell_type": "markdown",
      "source": [
        "funcutions with inputs"
      ],
      "metadata": {
        "id": "3CdAmbcrFeQZ"
      }
    },
    {
      "cell_type": "code",
      "source": [
        "def greet():\n",
        "    name=input('what is your name?')\n",
        "    print(f'Hello:{name}')\n",
        "    why=input(f'why you are here:{name}')\n",
        "    print(f'Oh you here for:{why} lets check weather first')\n",
        "    weather=input(f'how is the weather:{name}')\n",
        "    if weather.lower()=='good':\n",
        "        print(f'oh its:{weather} nice condition to:{why}')\n",
        "    else:\n",
        "        print(f'its:{weather}you cannot:{why}')\n",
        "greet()\n"
      ],
      "metadata": {
        "colab": {
          "base_uri": "https://localhost:8080/"
        },
        "id": "wgHNFTdqM_R4",
        "outputId": "7bb056dc-0c58-45b9-9f5e-b42fa224b489"
      },
      "execution_count": null,
      "outputs": [
        {
          "output_type": "stream",
          "name": "stdout",
          "text": [
            "what is your name?sourav\n",
            "Hello:sourav\n",
            "why you are here:souravplaying\n",
            "Oh you here for:playing lets check weather first\n",
            "how is the weather:souravgood\n",
            "oh its:good nice condition to:playing\n"
          ]
        }
      ]
    },
    {
      "cell_type": "code",
      "source": [
        "def life_in_weeks(age):\n",
        "    time_left=90-age\n",
        "    life_left=time_left*52\n",
        "    print(f'you have {life_left} weeks left')\n",
        "\n",
        "life_in_weeks(23)"
      ],
      "metadata": {
        "colab": {
          "base_uri": "https://localhost:8080/"
        },
        "id": "Y2zOKAq7JnAt",
        "outputId": "b0d0c9ba-9d69-48ce-9e24-2841c708c8ae"
      },
      "execution_count": null,
      "outputs": [
        {
          "output_type": "stream",
          "name": "stdout",
          "text": [
            "you have 3484 weeks left\n"
          ]
        }
      ]
    },
    {
      "cell_type": "code",
      "source": [
        "#adding 2 paraemeter in funcution\n",
        "\n",
        "def greet(name,location):\n",
        "    print(f'Hello {name} and you are staying in {location}')\n",
        "\n",
        "greet('sourav','kolkata')\n",
        "#this is positional argument\n",
        "\n",
        "\n",
        "#keyword argument\n",
        "greet(name='sourav',location='kolkata')"
      ],
      "metadata": {
        "colab": {
          "base_uri": "https://localhost:8080/"
        },
        "id": "gveCw-Y7FAQP",
        "outputId": "0d298ac9-5ca5-410a-9e61-2e13318ce3d7"
      },
      "execution_count": null,
      "outputs": [
        {
          "output_type": "stream",
          "name": "stdout",
          "text": [
            "Hello sourav and you are staying in kolkata\n",
            "Hello sourav and you are staying in kolkata\n"
          ]
        }
      ]
    },
    {
      "cell_type": "code",
      "source": [
        "def calculate_love_score(name1,name2):\n",
        "    name_comb=name1+name2\n",
        "    word_count=0\n",
        "    lst=[]\n",
        "\n",
        "    for i in range(len(name_comb)):\n",
        "        lst.append((name_comb)[i])\n",
        "        for j in lst:\n",
        "            if lst[i]==j:\n",
        "             print(j)\n",
        "    print(lst)\n",
        "\n",
        "\n",
        "\n",
        "\n",
        "calculate_love_score('sourav','divya')"
      ],
      "metadata": {
        "colab": {
          "base_uri": "https://localhost:8080/"
        },
        "id": "chZjDPOdB2fc",
        "outputId": "789430ba-86a3-425a-e3a8-30f60d212741"
      },
      "execution_count": null,
      "outputs": [
        {
          "output_type": "stream",
          "name": "stdout",
          "text": [
            "s\n",
            "o\n",
            "u\n",
            "r\n",
            "a\n",
            "v\n",
            "d\n",
            "i\n",
            "v\n",
            "v\n",
            "y\n",
            "a\n",
            "a\n",
            "['s', 'o', 'u', 'r', 'a', 'v', 'd', 'i', 'v', 'y', 'a']\n"
          ]
        }
      ]
    },
    {
      "cell_type": "code",
      "source": [
        "def calculate_love_score(name1, name2):\n",
        "    name_comb = (name1 + name2).lower() # Combine names and convert to lowercase\n",
        "    all_letters_list = [] # Changed lst name for clarity\n",
        "\n",
        "    # Populate the list with all letters\n",
        "    for letter in name_comb:\n",
        "        all_letters_list.append(letter)\n",
        "\n",
        "    # Now, iterate through the list to count each letter\n",
        "    counted_letters = [] # Keep track of letters we've already counted\n",
        "\n",
        "    for current_letter in all_letters_list:\n",
        "        # Check if we've already counted this letter\n",
        "        if current_letter not in counted_letters:\n",
        "            count = 0\n",
        "            # Iterate through the entire list to count occurrences of the current_letter\n",
        "            for letter_to_check in all_letters_list:\n",
        "                if current_letter == letter_to_check:\n",
        "                    count += 1\n",
        "\n",
        "            # Print the count for the current letter\n",
        "            print(f\"The letter '{current_letter}' appears {count} times.\")\n",
        "\n",
        "            # Add the current letter to the list of counted letters\n",
        "            counted_letters.append(current_letter)\n",
        "\n",
        "    # print(all_letters_list) # You can uncomment this to see the full list if needed\n",
        "\n",
        "calculate_love_score('sourav', 'divya')"
      ],
      "metadata": {
        "id": "FUuyuKj7fO7o"
      },
      "execution_count": null,
      "outputs": []
    },
    {
      "cell_type": "code",
      "source": [
        "import string\n",
        "alphabets=list(string.ascii_letters)\n",
        "print(alphabets)\n",
        "\n",
        "def cesier_cipher():\n",
        "    enct_msg=''\n",
        "    msg=input('enter your msg to incrypt\\n')\n",
        "    no_shift=int(input('number you want to shift by\\n'))  #here int datatype is defined and fixed the error\n",
        "    for i in range(len(msg)):\n",
        "        position=alphabets.index(msg[i])\n",
        "        enct_msg+=alphabets[position+no_shift]\n",
        "    print(enct_msg)\n",
        "\n",
        "\n",
        "cesier_cipher()"
      ],
      "metadata": {
        "colab": {
          "base_uri": "https://localhost:8080/"
        },
        "id": "1Zt-bq65tfMd",
        "outputId": "30171eeb-d833-4c4f-b34f-2c3a9c864378"
      },
      "execution_count": null,
      "outputs": [
        {
          "output_type": "stream",
          "name": "stdout",
          "text": [
            "['a', 'b', 'c', 'd', 'e', 'f', 'g', 'h', 'i', 'j', 'k', 'l', 'm', 'n', 'o', 'p', 'q', 'r', 's', 't', 'u', 'v', 'w', 'x', 'y', 'z', 'A', 'B', 'C', 'D', 'E', 'F', 'G', 'H', 'I', 'J', 'K', 'L', 'M', 'N', 'O', 'P', 'Q', 'R', 'S', 'T', 'U', 'V', 'W', 'X', 'Y', 'Z']\n",
            "enter your msg to incrypt\n",
            "a\n",
            "number you want to shift by\n",
            "1\n",
            "b\n"
          ]
        }
      ]
    },
    {
      "cell_type": "code",
      "source": [
        "import string\n",
        "alphabets=list(string.ascii_lowercase)\n",
        "print(alphabets)\n",
        "\n",
        "def cesier_cipher():\n",
        "    enct_msg=''\n",
        "    msg=input('enter your msg to incrypt\\n')\n",
        "    no_shift_str=input('number you want to shift by\\n') # Store the string input in a new variable\n",
        "    no_shift = int(no_shift_str) # Convert the string to an integer\n",
        "\n",
        "    for i in range(len(msg)):\n",
        "        position=alphabets.index(msg[i])\n",
        "        # Now you are adding two integers\n",
        "        enct_msg+=alphabets[position+no_shift]\n",
        "    print(enct_msg)\n",
        "\n",
        "cesier_cipher()\n",
        "\n",
        "\n",
        "#this is gemenni generated while it was showing an error\n",
        "#unsupported operand type(s) for +: 'int' and 'str'\n",
        "\n",
        "\n",
        "#lets check for edge cases it is working or not\n",
        "#lets try to shift z"
      ],
      "metadata": {
        "colab": {
          "base_uri": "https://localhost:8080/"
        },
        "id": "lVWlBonHxHXR",
        "outputId": "cfe4eee6-bf86-4c61-a1b2-b00093e0681e"
      },
      "execution_count": null,
      "outputs": [
        {
          "metadata": {
            "tags": null
          },
          "name": "stdout",
          "output_type": "stream",
          "text": [
            "['a', 'b', 'c', 'd', 'e', 'f', 'g', 'h', 'i', 'j', 'k', 'l', 'm', 'n', 'o', 'p', 'q', 'r', 's', 't', 'u', 'v', 'w', 'x', 'y', 'z']\n"
          ]
        }
      ]
    },
    {
      "cell_type": "code",
      "source": [
        "import string\n",
        "alphabets=list(string.ascii_lowercase)\n",
        "print(alphabets)\n",
        "\n",
        "def cesier_cipher():\n",
        "    enct_msg=''\n",
        "    msg=input('enter your msg to incrypt\\n')\n",
        "    no_shift_str=input('number you want to shift by\\n') # Store the string input in a new variable\n",
        "    no_shift = int(no_shift_str) # Convert the string to an integer\n",
        "\n",
        "    msg_lst=list(msg)\n",
        "    print(msg_lst)\n",
        "    for i in msg_lst:\n",
        "        position=alphabets.index(i)\n",
        "         #Now you are adding two integers\n",
        "        enct_msg+=alphabets[position+no_shift]\n",
        "    print(enct_msg)\n",
        "\n",
        "cesier_cipher()\n",
        "\n",
        "\n",
        "#this is gemenni generated while it was showing an error\n",
        "#unsupported operand type(s) for +: 'int' and 'str'\n",
        "\n",
        "\n",
        "#lets check for edge cases it is working or not\n",
        "#lets try to shift z"
      ],
      "metadata": {
        "colab": {
          "base_uri": "https://localhost:8080/"
        },
        "id": "e7dyqc7d9q8y",
        "outputId": "3cf9a654-e19f-4db0-fd6c-acbb4677a5cf"
      },
      "execution_count": 9,
      "outputs": [
        {
          "output_type": "stream",
          "name": "stdout",
          "text": [
            "['a', 'b', 'c', 'd', 'e', 'f', 'g', 'h', 'i', 'j', 'k', 'l', 'm', 'n', 'o', 'p', 'q', 'r', 's', 't', 'u', 'v', 'w', 'x', 'y', 'z']\n",
            "enter your msg to incrypt\n",
            "a\n",
            "number you want to shift by\n",
            "1\n",
            "['a']\n",
            "b\n"
          ]
        }
      ]
    }
  ]
}